{
 "cells": [
  {
   "cell_type": "code",
   "execution_count": 1,
   "metadata": {},
   "outputs": [],
   "source": [
    "from collections import defaultdict"
   ]
  },
  {
   "cell_type": "code",
   "execution_count": 2,
   "metadata": {},
   "outputs": [],
   "source": [
    "dic=defaultdict(list)\n",
    "for i in range(int(input('enter no of edges:'))):\n",
    "    m,n=input().split()\n",
    "    dic[m].append(n)"
   ]
  },
  {
   "cell_type": "code",
   "execution_count": 26,
   "metadata": {},
   "outputs": [],
   "source": [
    "target='i'\n",
    "open=['a']\n",
    "close=set()\n",
    "res={}\n",
    "\n",
    "def path_trace(path_dict, start, target):\n",
    "    path = [target]\n",
    "    current = target\n",
    "\n",
    "    while current != start:\n",
    "        current = path_dict[current]\n",
    "        path.insert(0, current)\n",
    "\n",
    "    return path\n",
    "\n",
    "while(open!=[]):\n",
    "    node=open.pop()\n",
    "    close.add(node)\n",
    "    if node==target:\n",
    "        print('Found')\n",
    "        print(path_trace(res,'a','i'))\n",
    "    else:\n",
    "        for neighbor in dic.get(node, []):\n",
    "            if neighbor not in close and neighbor not in open:\n",
    "                open.append(neighbor)\n",
    "                res[neighbor] = node\n",
    "    \n",
    "# print(open)\n",
    "# print(close)\n",
    "# print(res)"
   ]
  },
  {
   "cell_type": "code",
   "execution_count": 40,
   "metadata": {},
   "outputs": [
    {
     "name": "stdout",
     "output_type": "stream",
     "text": [
      "[[5, 0], [0, 3]]\n",
      "[[5, 0], [5, 3], [3, 0]]\n",
      "[[5, 0], [5, 3], [5, 0], [3, 3], [0, 3]]\n",
      "[[5, 0], [5, 3], [5, 0], [3, 3]]\n",
      "[[5, 0], [5, 3], [5, 0], [3, 0], [5, 3], [5, 1], [3, 3]]\n",
      "[[5, 0], [5, 3], [5, 0], [3, 0], [5, 3], [5, 1]]\n",
      "[[5, 0], [5, 3], [5, 0], [5, 3], [0, 1], [5, 0], [5, 3], [5, 1]]\n",
      "[[5, 0], [5, 3], [5, 0], [5, 3], [0, 1], [5, 0], [5, 3]]\n",
      "[[5, 0], [5, 3], [5, 0], [5, 3], [0, 1], [5, 0]]\n",
      "[[5, 0], [5, 3], [5, 0], [5, 3], [0, 1]]\n",
      "[[5, 3], [5, 3], [5, 1], [1, 0]]\n",
      "[[5, 3], [0, 0], [1, 3]]\n",
      "[[0, 0], [1, 0], [4, 0], [1, 3]]\n",
      "[[0, 0], [1, 0], [4, 0]]\n",
      "yes\n"
     ]
    },
    {
     "ename": "KeyboardInterrupt",
     "evalue": "",
     "output_type": "error",
     "traceback": [
      "\u001b[1;31m---------------------------------------------------------------------------\u001b[0m",
      "\u001b[1;31mKeyboardInterrupt\u001b[0m                         Traceback (most recent call last)",
      "\u001b[1;32m~\\AppData\\Local\\Temp/ipykernel_500/3580914885.py\u001b[0m in \u001b[0;36m<module>\u001b[1;34m\u001b[0m\n\u001b[0;32m     39\u001b[0m         \u001b[0mcurrent\u001b[0m \u001b[1;33m=\u001b[0m \u001b[0mnode\u001b[0m\u001b[1;33m\u001b[0m\u001b[1;33m\u001b[0m\u001b[0m\n\u001b[0;32m     40\u001b[0m         \u001b[1;32mwhile\u001b[0m \u001b[0mcurrent\u001b[0m \u001b[1;33m!=\u001b[0m \u001b[1;33m[\u001b[0m\u001b[1;36m0\u001b[0m\u001b[1;33m,\u001b[0m \u001b[1;36m0\u001b[0m\u001b[1;33m]\u001b[0m\u001b[1;33m:\u001b[0m\u001b[1;33m\u001b[0m\u001b[1;33m\u001b[0m\u001b[0m\n\u001b[1;32m---> 41\u001b[1;33m             \u001b[0mpath\u001b[0m\u001b[1;33m.\u001b[0m\u001b[0mappend\u001b[0m\u001b[1;33m(\u001b[0m\u001b[0mcurrent\u001b[0m\u001b[1;33m)\u001b[0m\u001b[1;33m\u001b[0m\u001b[1;33m\u001b[0m\u001b[0m\n\u001b[0m\u001b[0;32m     42\u001b[0m             \u001b[0mcurrent\u001b[0m \u001b[1;33m=\u001b[0m \u001b[0mparent\u001b[0m\u001b[1;33m.\u001b[0m\u001b[0mget\u001b[0m\u001b[1;33m(\u001b[0m\u001b[0mtuple\u001b[0m\u001b[1;33m(\u001b[0m\u001b[0mcurrent\u001b[0m\u001b[1;33m)\u001b[0m\u001b[1;33m,\u001b[0m \u001b[1;32mNone\u001b[0m\u001b[1;33m)\u001b[0m \u001b[1;31m# type: ignore\u001b[0m\u001b[1;33m\u001b[0m\u001b[1;33m\u001b[0m\u001b[0m\n\u001b[0;32m     43\u001b[0m         \u001b[0mpath\u001b[0m\u001b[1;33m.\u001b[0m\u001b[0mappend\u001b[0m\u001b[1;33m(\u001b[0m\u001b[1;33m[\u001b[0m\u001b[1;36m0\u001b[0m\u001b[1;33m,\u001b[0m \u001b[1;36m0\u001b[0m\u001b[1;33m]\u001b[0m\u001b[1;33m)\u001b[0m\u001b[1;33m\u001b[0m\u001b[1;33m\u001b[0m\u001b[0m\n",
      "\u001b[1;31mKeyboardInterrupt\u001b[0m: "
     ]
    }
   ],
   "source": [
    "def search(l): \n",
    "    for i in l: \n",
    "        if i in close: \n",
    "            l.remove(i) \n",
    "    return l\n",
    "\n",
    "def generate(m,open):\n",
    "    if (m[0]>0):\n",
    "        open.append([0,m[1]])\n",
    "    if (m[1]>0):\n",
    "        open.append([m[0],0])\n",
    "    if (m[0]<cap1):\n",
    "        open.append([cap1,m[1]])\n",
    "    if m[1]<cap2:\n",
    "        open.append([m[0],cap2])\n",
    "    if (m[0]+m[1]<=cap1 and m[1]>0):\n",
    "        open.append([m[0]+m[1],0])\n",
    "    if (m[0]+m[1]<=cap2 and m[0]>0):\n",
    "        open.append([0,m[0]+m[1]])\n",
    "    if m[0]+m[1]>=cap1 and m[1]>0:\n",
    "        open.append([cap1,m[1]-cap1+m[0]])\n",
    "    if m[0]+m[1]>=cap2 and m[0]>0:\n",
    "        open.append([m[0]-cap2+m[1],cap2])\n",
    "    open=search(open)\n",
    "    return open\n",
    "\n",
    "cap1=5\n",
    "cap2=3\n",
    "open=[[0,0]]\n",
    "close=[]\n",
    "target=[4,0]\n",
    "parent={}\n",
    "\n",
    "while(open!=[]):\n",
    "    node=open.pop()\n",
    "    if node == target:\n",
    "        print('yes')\n",
    "        path = []\n",
    "        current = node\n",
    "        while current != [0, 0]:\n",
    "            path.append(current)\n",
    "            current = parent.get(tuple(current), None) # type: ignore\n",
    "        path.append([0, 0])\n",
    "        print(\"Path:\", path[::-1])\n",
    "        break\n",
    "    else:\n",
    "        if node not in close and node not in open:\n",
    "            open=generate(node,open)\n",
    "            for state in open:\n",
    "                parent[tuple(state)] = node\n",
    "        close.append(node)\n",
    "    print(open)\n",
    "# print(close)"
   ]
  }
 ],
 "metadata": {
  "kernelspec": {
   "display_name": "Python 3",
   "language": "python",
   "name": "python3"
  },
  "language_info": {
   "codemirror_mode": {
    "name": "ipython",
    "version": 3
   },
   "file_extension": ".py",
   "mimetype": "text/x-python",
   "name": "python",
   "nbconvert_exporter": "python",
   "pygments_lexer": "ipython3",
   "version": "3.9.13"
  },
  "orig_nbformat": 4
 },
 "nbformat": 4,
 "nbformat_minor": 2
}
