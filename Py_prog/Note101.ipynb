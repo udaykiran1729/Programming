{
 "cells": [
  {
   "cell_type": "code",
   "execution_count": 2,
   "metadata": {},
   "outputs": [
    {
     "name": "stdout",
     "output_type": "stream",
     "text": [
      "[1, 3, 2, 4, 5]\n",
      "no of interations: 4\n"
     ]
    }
   ],
   "source": [
    "n=int(input('enter the length:'))\n",
    "#l=list(range(500,1,-1))\n",
    "l=[int(input()) for x in range(n)]\n",
    "c=0\n",
    "for i in range(len(l)):\n",
    "    min=i\n",
    "    for j in range(i,len(l)):\n",
    "        if l[i]>l[j]:\n",
    "            min=j\n",
    "            c+=1\n",
    "    l[i],l[min]=l[min],l[i]\n",
    "        #c+=1\n",
    "print(l)\n",
    "print('no of interations:',c)"
   ]
  },
  {
   "cell_type": "code",
   "execution_count": 24,
   "metadata": {},
   "outputs": [
    {
     "name": "stdout",
     "output_type": "stream",
     "text": [
      "NO\n",
      "YES\n"
     ]
    }
   ],
   "source": [
    "for _ in range(int(input())):\n",
    "    m,n=map(int,input().split())\n",
    "    s=input()\n",
    "    c=0\n",
    "    #l1=list(s)\n",
    "    if m%2==0:\n",
    "        l1=list(s[:int(m/2)])\n",
    "        l2=list(s[int(m/2):])\n",
    "        l2=l2[::-1]\n",
    "    else:\n",
    "        l1=list(s[:int(m/2)])\n",
    "        l2=list(s[int(m/2)+1:])\n",
    "        l2=l2[::-1]\n",
    "    for i in range(len(l1)):\n",
    "        if l1[i]!=l2[i]:\n",
    "            c+=1\n",
    "    if c==n:\n",
    "        print('YES')\n",
    "    else:\n",
    "        print('NO')"
   ]
  },
  {
   "cell_type": "code",
   "execution_count": 23,
   "metadata": {},
   "outputs": [
    {
     "data": {
      "text/plain": [
       "1"
      ]
     },
     "execution_count": 23,
     "metadata": {},
     "output_type": "execute_result"
    }
   ],
   "source": [
    "c"
   ]
  }
 ],
 "metadata": {
  "interpreter": {
   "hash": "48037560a51f2aee56f7fac33d48ee909bfa2e4a90e8e06b7d8a7422faa31bab"
  },
  "kernelspec": {
   "display_name": "Python 3.9.7 64-bit ('BM_2464': conda)",
   "language": "python",
   "name": "python3"
  },
  "language_info": {
   "codemirror_mode": {
    "name": "ipython",
    "version": 3
   },
   "file_extension": ".py",
   "mimetype": "text/x-python",
   "name": "python",
   "nbconvert_exporter": "python",
   "pygments_lexer": "ipython3",
   "version": "3.9.6"
  },
  "orig_nbformat": 4
 },
 "nbformat": 4,
 "nbformat_minor": 2
}
