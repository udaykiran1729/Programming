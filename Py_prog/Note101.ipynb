{
 "cells": [
  {
   "cell_type": "code",
   "execution_count": 7,
   "metadata": {},
   "outputs": [],
   "source": [
    "def f(m,n):\n",
    "    res=0\n",
    "    while m>=n:\n",
    "        res,m=res+1,m/n\n",
    "    return res"
   ]
  },
  {
   "cell_type": "code",
   "execution_count": 10,
   "metadata": {},
   "outputs": [
    {
     "name": "stdout",
     "output_type": "stream",
     "text": [
      "15\n"
     ]
    }
   ],
   "source": [
    "for _ in range(int(input())):\n",
    "    n=int(input())\n",
    "    l=[]\n",
    "    r=0\n",
    "    l2=[]\n",
    "    for i in range(n):\n",
    "        l1=[]\n",
    "        l1=list(map(int,input().split()))\n",
    "        for i in l1:\n",
    "            if l1.count(i)>1:\n",
    "                r+=1\n",
    "                break\n",
    "        l.append(l1)\n",
    "        l2.extend(l1)\n",
    "    sum=0\n",
    "    c=0\n",
    "    for i in range(n):\n",
    "        for j in range(n):\n",
    "            if i==j:\n",
    "               sum+=l[i][j]\n",
    "    #print(sum)\n",
    "    #print(r)\n",
    "    for i in range(n):\n",
    "        li=[]\n",
    "        for j in range(n):\n",
    "            li.extend(l[j][i])\n",
    "        for i in li:\n",
    "            if li.count(i)>1:\n",
    "                c+=1\n",
    "                break\n",
    "    print('%d %d %d'%(sum,r,c))\n",
    "    #print(c)\n"
   ]
  },
  {
   "cell_type": "code",
   "execution_count": 2,
   "metadata": {},
   "outputs": [
    {
     "data": {
      "text/plain": [
       "[1, 2, 3, 4]"
      ]
     },
     "execution_count": 2,
     "metadata": {},
     "output_type": "execute_result"
    }
   ],
   "source": [
    "l=[1,3,2,4]\n",
    "sorted(l)\n"
   ]
  }
 ],
 "metadata": {
  "interpreter": {
   "hash": "48037560a51f2aee56f7fac33d48ee909bfa2e4a90e8e06b7d8a7422faa31bab"
  },
  "kernelspec": {
   "display_name": "Python 3.9.7 64-bit ('BM_2464': conda)",
   "language": "python",
   "name": "python3"
  },
  "language_info": {
   "codemirror_mode": {
    "name": "ipython",
    "version": 3
   },
   "file_extension": ".py",
   "mimetype": "text/x-python",
   "name": "python",
   "nbconvert_exporter": "python",
   "pygments_lexer": "ipython3",
   "version": "3.9.6"
  },
  "orig_nbformat": 4
 },
 "nbformat": 4,
 "nbformat_minor": 2
}
