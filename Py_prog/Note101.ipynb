{
 "cells": [
  {
   "cell_type": "code",
   "execution_count": 116,
   "metadata": {},
   "outputs": [
    {
     "name": "stdout",
     "output_type": "stream",
     "text": [
      "^C\n"
     ]
    }
   ],
   "source": [
    "!pip install numpy"
   ]
  },
  {
   "cell_type": "code",
   "execution_count": null,
   "metadata": {},
   "outputs": [
    {
     "ename": "ModuleNotFoundError",
     "evalue": "No module named 'numpy'",
     "output_type": "error",
     "traceback": [
      "\u001b[1;31m---------------------------------------------------------------------------\u001b[0m",
      "\u001b[1;31mModuleNotFoundError\u001b[0m                       Traceback (most recent call last)",
      "\u001b[1;32m~\\AppData\\Local\\Temp/ipykernel_15124/1661023001.py\u001b[0m in \u001b[0;36m<module>\u001b[1;34m\u001b[0m\n\u001b[1;32m----> 1\u001b[1;33m \u001b[1;32mimport\u001b[0m \u001b[0mnumpy\u001b[0m \u001b[1;32mas\u001b[0m \u001b[0mnp\u001b[0m\u001b[1;33m\u001b[0m\u001b[1;33m\u001b[0m\u001b[0m\n\u001b[0m\u001b[0;32m      2\u001b[0m \u001b[1;33m\u001b[0m\u001b[0m\n\u001b[0;32m      3\u001b[0m \u001b[1;32mimport\u001b[0m \u001b[0mmatplotlib\u001b[0m\u001b[1;33m.\u001b[0m\u001b[0mpyplot\u001b[0m \u001b[1;32mas\u001b[0m \u001b[0mplt\u001b[0m\u001b[1;33m\u001b[0m\u001b[1;33m\u001b[0m\u001b[0m\n\u001b[0;32m      4\u001b[0m \u001b[1;33m\u001b[0m\u001b[0m\n\u001b[0;32m      5\u001b[0m \u001b[0ma\u001b[0m\u001b[1;33m=\u001b[0m\u001b[0mnp\u001b[0m\u001b[1;33m.\u001b[0m\u001b[0marray\u001b[0m\u001b[1;33m(\u001b[0m\u001b[1;33m[\u001b[0m\u001b[1;36m1\u001b[0m\u001b[1;33m,\u001b[0m\u001b[1;36m2\u001b[0m\u001b[1;33m,\u001b[0m\u001b[1;36m3\u001b[0m\u001b[1;33m]\u001b[0m\u001b[1;33m)\u001b[0m\u001b[1;33m\u001b[0m\u001b[1;33m\u001b[0m\u001b[0m\n",
      "\u001b[1;31mModuleNotFoundError\u001b[0m: No module named 'numpy'"
     ]
    }
   ],
   "source": [
    "import numpy as np\n",
    "\n",
    "import matplotlib.pyplot as plt\n",
    "\n",
    "a=np.array([1,2,3])\n",
    "b=np.array([4,5,6])\n",
    "\n",
    "plt.plot(a,b,marker='.')\n",
    "plt.show()"
   ]
  },
  {
   "cell_type": "code",
   "execution_count": null,
   "metadata": {},
   "outputs": [
    {
     "name": "stdout",
     "output_type": "stream",
     "text": [
      "[7 8]\n"
     ]
    }
   ],
   "source": [
    "import numpy as np\n",
    "\n",
    "arr = np.array([[1, 2, 3, 4, 5],[ 6, 7,8,9,10]])\n",
    "\n",
    "print(arr[1,1:3])"
   ]
  },
  {
   "cell_type": "code",
   "execution_count": null,
   "metadata": {},
   "outputs": [
    {
     "data": {
      "text/plain": [
       "2"
      ]
     },
     "execution_count": 18,
     "metadata": {},
     "output_type": "execute_result"
    }
   ],
   "source": [
    "a.ndim"
   ]
  },
  {
   "cell_type": "code",
   "execution_count": null,
   "metadata": {},
   "outputs": [
    {
     "name": "stdout",
     "output_type": "stream",
     "text": [
      "[1 2 3 4 6 7 8 9]\n"
     ]
    }
   ],
   "source": [
    "a=np.array([[1,2,3,4],[6,7,8,9]])\n",
    "\n",
    "a1=a.reshape(-1)\n",
    "\n",
    "print(a1)"
   ]
  },
  {
   "cell_type": "code",
   "execution_count": null,
   "metadata": {},
   "outputs": [
    {
     "ename": "ModuleNotFoundError",
     "evalue": "No module named 'numpy'",
     "output_type": "error",
     "traceback": [
      "\u001b[1;31m---------------------------------------------------------------------------\u001b[0m",
      "\u001b[1;31mModuleNotFoundError\u001b[0m                       Traceback (most recent call last)",
      "\u001b[1;32m~\\AppData\\Local\\Temp/ipykernel_15124/530627930.py\u001b[0m in \u001b[0;36m<module>\u001b[1;34m\u001b[0m\n\u001b[1;32m----> 1\u001b[1;33m \u001b[1;32mimport\u001b[0m \u001b[0mnumpy\u001b[0m\u001b[1;33m\u001b[0m\u001b[1;33m\u001b[0m\u001b[0m\n\u001b[0m\u001b[0;32m      2\u001b[0m \u001b[0mA\u001b[0m \u001b[1;33m=\u001b[0m \u001b[1;33m[\u001b[0m\u001b[1;33m[\u001b[0m\u001b[1;36m5\u001b[0m\u001b[1;33m,\u001b[0m\u001b[1;36m4\u001b[0m\u001b[1;33m,\u001b[0m\u001b[1;36m3\u001b[0m\u001b[1;33m,\u001b[0m\u001b[1;36m2\u001b[0m\u001b[1;33m,\u001b[0m\u001b[1;36m1\u001b[0m\u001b[1;33m]\u001b[0m\u001b[1;33m,\u001b[0m\u001b[1;33m[\u001b[0m\u001b[1;36m4\u001b[0m\u001b[1;33m,\u001b[0m\u001b[1;36m3\u001b[0m\u001b[1;33m,\u001b[0m\u001b[1;36m2\u001b[0m\u001b[1;33m,\u001b[0m\u001b[1;36m1\u001b[0m\u001b[1;33m,\u001b[0m\u001b[1;36m5\u001b[0m\u001b[1;33m]\u001b[0m\u001b[1;33m,\u001b[0m\u001b[1;33m[\u001b[0m\u001b[1;36m3\u001b[0m\u001b[1;33m,\u001b[0m\u001b[1;36m2\u001b[0m\u001b[1;33m,\u001b[0m\u001b[1;36m9\u001b[0m\u001b[1;33m,\u001b[0m\u001b[1;36m5\u001b[0m\u001b[1;33m,\u001b[0m\u001b[1;36m4\u001b[0m\u001b[1;33m]\u001b[0m\u001b[1;33m,\u001b[0m\u001b[1;33m[\u001b[0m\u001b[1;36m2\u001b[0m\u001b[1;33m,\u001b[0m\u001b[1;36m1\u001b[0m\u001b[1;33m,\u001b[0m\u001b[1;36m5\u001b[0m\u001b[1;33m,\u001b[0m\u001b[1;36m4\u001b[0m\u001b[1;33m,\u001b[0m\u001b[1;36m3\u001b[0m\u001b[1;33m]\u001b[0m\u001b[1;33m,\u001b[0m\u001b[1;33m[\u001b[0m\u001b[1;36m1\u001b[0m\u001b[1;33m,\u001b[0m\u001b[1;36m2\u001b[0m\u001b[1;33m,\u001b[0m\u001b[1;36m3\u001b[0m\u001b[1;33m,\u001b[0m\u001b[1;36m4\u001b[0m\u001b[1;33m,\u001b[0m\u001b[1;36m5\u001b[0m\u001b[1;33m]\u001b[0m\u001b[1;33m]\u001b[0m\u001b[1;33m\u001b[0m\u001b[1;33m\u001b[0m\u001b[0m\n\u001b[0;32m      3\u001b[0m \u001b[0mAM\u001b[0m\u001b[1;33m=\u001b[0m\u001b[0mcopy_matrix\u001b[0m\u001b[1;33m(\u001b[0m\u001b[0mA\u001b[0m\u001b[1;33m)\u001b[0m\u001b[1;33m\u001b[0m\u001b[1;33m\u001b[0m\u001b[0m\n\u001b[0;32m      4\u001b[0m \u001b[0mfd\u001b[0m \u001b[1;33m=\u001b[0m \u001b[1;36m0\u001b[0m \u001b[1;31m# fd stands for focus diagonal OR the current diagonal\u001b[0m\u001b[1;33m\u001b[0m\u001b[1;33m\u001b[0m\u001b[0m\n\u001b[0;32m      5\u001b[0m \u001b[0mfdScaler\u001b[0m \u001b[1;33m=\u001b[0m \u001b[1;36m1.\u001b[0m \u001b[1;33m/\u001b[0m \u001b[0mAM\u001b[0m\u001b[1;33m[\u001b[0m\u001b[0mfd\u001b[0m\u001b[1;33m]\u001b[0m\u001b[1;33m[\u001b[0m\u001b[0mfd\u001b[0m\u001b[1;33m]\u001b[0m\u001b[1;33m\u001b[0m\u001b[1;33m\u001b[0m\u001b[0m\n",
      "\u001b[1;31mModuleNotFoundError\u001b[0m: No module named 'numpy'"
     ]
    }
   ],
   "source": [
    "import numpy\n",
    "A = [[5,4,3,2,1],[4,3,2,1,5],[3,2,9,5,4],[2,1,5,4,3],[1,2,3,4,5]]\n",
    "AM=copy_matrix(A)\n",
    "fd = 0 # fd stands for focus diagonal OR the current diagonal\n",
    "fdScaler = 1. / AM[fd][fd]\n",
    "fdScaler"
   ]
  },
  {
   "cell_type": "code",
   "execution_count": null,
   "metadata": {},
   "outputs": [
    {
     "ename": "ModuleNotFoundError",
     "evalue": "No module named 'numpy'",
     "output_type": "error",
     "traceback": [
      "\u001b[1;31m---------------------------------------------------------------------------\u001b[0m",
      "\u001b[1;31mModuleNotFoundError\u001b[0m                       Traceback (most recent call last)",
      "\u001b[1;32m~\\AppData\\Local\\Temp/ipykernel_15124/1662815981.py\u001b[0m in \u001b[0;36m<module>\u001b[1;34m\u001b[0m\n\u001b[1;32m----> 1\u001b[1;33m \u001b[1;32mimport\u001b[0m \u001b[0mnumpy\u001b[0m \u001b[1;32mas\u001b[0m \u001b[0mnp\u001b[0m\u001b[1;33m\u001b[0m\u001b[1;33m\u001b[0m\u001b[0m\n\u001b[0m\u001b[0;32m      2\u001b[0m \u001b[1;32mimport\u001b[0m \u001b[0mpandas\u001b[0m \u001b[1;32mas\u001b[0m \u001b[0mpd\u001b[0m\u001b[1;33m\u001b[0m\u001b[1;33m\u001b[0m\u001b[0m\n",
      "\u001b[1;31mModuleNotFoundError\u001b[0m: No module named 'numpy'"
     ]
    }
   ],
   "source": [
    "import numpy as np\n",
    "import pandas as pd"
   ]
  },
  {
   "cell_type": "code",
   "execution_count": null,
   "metadata": {},
   "outputs": [
    {
     "data": {
      "text/html": [
       "<div>\n",
       "<style scoped>\n",
       "    .dataframe tbody tr th:only-of-type {\n",
       "        vertical-align: middle;\n",
       "    }\n",
       "\n",
       "    .dataframe tbody tr th {\n",
       "        vertical-align: top;\n",
       "    }\n",
       "\n",
       "    .dataframe thead th {\n",
       "        text-align: right;\n",
       "    }\n",
       "</style>\n",
       "<table border=\"1\" class=\"dataframe\">\n",
       "  <thead>\n",
       "    <tr style=\"text-align: right;\">\n",
       "      <th></th>\n",
       "      <th>curvature</th>\n",
       "      <th>diameter</th>\n",
       "      <th>quality control</th>\n",
       "    </tr>\n",
       "  </thead>\n",
       "  <tbody>\n",
       "    <tr>\n",
       "      <th>0</th>\n",
       "      <td>2.95</td>\n",
       "      <td>6.63</td>\n",
       "      <td>1.0</td>\n",
       "    </tr>\n",
       "    <tr>\n",
       "      <th>1</th>\n",
       "      <td>2.53</td>\n",
       "      <td>7.79</td>\n",
       "      <td>1.0</td>\n",
       "    </tr>\n",
       "    <tr>\n",
       "      <th>2</th>\n",
       "      <td>3.57</td>\n",
       "      <td>5.65</td>\n",
       "      <td>1.0</td>\n",
       "    </tr>\n",
       "    <tr>\n",
       "      <th>3</th>\n",
       "      <td>3.16</td>\n",
       "      <td>5.47</td>\n",
       "      <td>1.0</td>\n",
       "    </tr>\n",
       "    <tr>\n",
       "      <th>4</th>\n",
       "      <td>2.58</td>\n",
       "      <td>4.46</td>\n",
       "      <td>0.0</td>\n",
       "    </tr>\n",
       "    <tr>\n",
       "      <th>5</th>\n",
       "      <td>2.16</td>\n",
       "      <td>6.22</td>\n",
       "      <td>0.0</td>\n",
       "    </tr>\n",
       "    <tr>\n",
       "      <th>6</th>\n",
       "      <td>3.27</td>\n",
       "      <td>3.52</td>\n",
       "      <td>0.0</td>\n",
       "    </tr>\n",
       "  </tbody>\n",
       "</table>\n",
       "</div>"
      ],
      "text/plain": [
       "   curvature  diameter  quality control\n",
       "0       2.95      6.63              1.0\n",
       "1       2.53      7.79              1.0\n",
       "2       3.57      5.65              1.0\n",
       "3       3.16      5.47              1.0\n",
       "4       2.58      4.46              0.0\n",
       "5       2.16      6.22              0.0\n",
       "6       3.27      3.52              0.0"
      ]
     },
     "execution_count": 2,
     "metadata": {},
     "output_type": "execute_result"
    }
   ],
   "source": [
    "n=int(input('enter the no of attributes :'))\n",
    "df=pd.DataFrame()\n",
    "for i in range(n):\n",
    "    m=input('enter the name of attribute :')\n",
    "    df[m]=list(map(float,input().split()))\n",
    "df"
   ]
  },
  {
   "cell_type": "code",
   "execution_count": null,
   "metadata": {},
   "outputs": [
    {
     "data": {
      "text/plain": [
       "array([[2.95, 2.53, 3.57, 3.16, 2.58, 2.16, 3.27],\n",
       "       [6.63, 7.79, 5.65, 5.47, 4.46, 6.22, 3.52]])"
      ]
     },
     "execution_count": 3,
     "metadata": {},
     "output_type": "execute_result"
    }
   ],
   "source": [
    "x1=[]\n",
    "x2=[]\n",
    "for i in range(len(df)):\n",
    "    l=[]\n",
    "    if df['quality control'][i]==1:\n",
    "        l.append(df['curvature'][i])\n",
    "        l.append(df['diameter'][i])\n",
    "        x1.append(l)\n",
    "    else:\n",
    "        l.append(df['curvature'][i])\n",
    "        l.append(df['diameter'][i])\n",
    "        x2.append(l)\n",
    "x=np.array([df['curvature'],\n",
    "           df['diameter']])\n",
    "x"
   ]
  },
  {
   "cell_type": "code",
   "execution_count": null,
   "metadata": {},
   "outputs": [],
   "source": [
    "def men(a):\n",
    "    m1,m2=0,0\n",
    "    for i in a:\n",
    "        m1+=i[0]\n",
    "        m2+=i[1]\n",
    "    return [m1/len(a),m2/len(a)]\n",
    "mew1=men(x1)\n",
    "mew2=men(x2)\n",
    "mew=[]\n",
    "m1,m2=0,0\n",
    "for i in range(len(x[0])):\n",
    "        m1+=x[0][i]\n",
    "        m2+=x[1][i]\n",
    "mew.append(m1/len(x[0]))\n",
    "mew.append(m2/len(x[0]))"
   ]
  },
  {
   "cell_type": "code",
   "execution_count": null,
   "metadata": {},
   "outputs": [
    {
     "data": {
      "text/plain": [
       "-0.8834216345248745"
      ]
     },
     "execution_count": 1,
     "metadata": {},
     "output_type": "execute_result"
    }
   ],
   "source": [
    "import numpy as np\n",
    "x=list(map(float,input().split()))\n",
    "y=list(map(float,input().split()))\n",
    "n=len(x)\n",
    "x=np.array(x)\n",
    "y=np.array(y)\n",
    "import matplotlib.pyplot as plt\n",
    "xb=np.sum(x)/n\n",
    "yb=np.sum(y)/n\n",
    "cov=(np.sum(x*y)/n)-(xb*yb)\n",
    "sx,sy=0,0\n",
    "for i in x:\n",
    "    sx=sx+i**2\n",
    "for i in y:\n",
    "    sy=sy+i**2\n",
    "sigx=((sx/n)-xb**2)**0.5\n",
    "sigy=((sy/n)-yb**2)**0.5\n",
    "r=cov/(sigx*sigy)\n",
    "r"
   ]
  },
  {
   "cell_type": "code",
   "execution_count": 7,
   "metadata": {},
   "outputs": [],
   "source": [
    "import numpy as np\n",
    "import pandas as pd\n",
    "import matplotlib.pyplot as plt"
   ]
  },
  {
   "cell_type": "code",
   "execution_count": null,
   "metadata": {},
   "outputs": [],
   "source": [
    "x=list(map(float,input().split()))\n",
    "y=list(map(float,input().split()))\n",
    "\n"
   ]
  },
  {
   "cell_type": "code",
   "execution_count": null,
   "metadata": {},
   "outputs": [
    {
     "data": {
      "text/plain": [
       "[<matplotlib.lines.Line2D at 0x1c5f743a610>]"
      ]
     },
     "execution_count": 23,
     "metadata": {},
     "output_type": "execute_result"
    },
    {
     "data": {
      "image/png": "[encoded data removed]",
      "text/plain": [
       "<Figure size 432x288 with 1 Axes>"
      ]
     },
     "metadata": {
      "needs_background": "light"
     },
     "output_type": "display_data"
    }
   ],
   "source": [
    "\n",
    "\n",
    "\n",
    "from turtle import color\n",
    "\n",
    "\n",
    "x=np.array(x)\n",
    "y=np.array(y)\n",
    "tx=sum(x)\n",
    "ty=sum(y)\n",
    "tx2=sum(x**2)\n",
    "txy=sum(x*y)\n",
    "n=len(x)\n",
    "a=((tx2*ty)-(tx*txy))/(n*tx2-(tx)**2)\n",
    "b=(ty-n*a)/tx\n",
    "\n",
    "y1=a+x*b\n",
    "plt.plot(x,y,color='red',marker='o')\n",
    "plt.plot(x,y1,marker='o')"
   ]
  },
  {
   "cell_type": "code",
   "execution_count": null,
   "metadata": {},
   "outputs": [
    {
     "ename": "TypeError",
     "evalue": "unsupported operand type(s) for -: 'list' and 'float'",
     "output_type": "error",
     "traceback": [
      "\u001b[1;31m---------------------------------------------------------------------------\u001b[0m",
      "\u001b[1;31mTypeError\u001b[0m                                 Traceback (most recent call last)",
      "\u001b[1;32m~\\AppData\\Local\\Temp/ipykernel_2472/2333874839.py\u001b[0m in \u001b[0;36m<module>\u001b[1;34m\u001b[0m\n\u001b[0;32m      9\u001b[0m \u001b[1;32mfrom\u001b[0m \u001b[0mmath\u001b[0m \u001b[1;32mimport\u001b[0m \u001b[0msqrt\u001b[0m\u001b[1;33m\u001b[0m\u001b[1;33m\u001b[0m\u001b[0m\n\u001b[0;32m     10\u001b[0m \u001b[1;33m\u001b[0m\u001b[0m\n\u001b[1;32m---> 11\u001b[1;33m \u001b[0msigx\u001b[0m\u001b[1;33m=\u001b[0m\u001b[0msqrt\u001b[0m\u001b[1;33m(\u001b[0m\u001b[0msum\u001b[0m\u001b[1;33m(\u001b[0m\u001b[1;33m(\u001b[0m\u001b[0mx\u001b[0m\u001b[1;33m-\u001b[0m\u001b[0mmex\u001b[0m\u001b[1;33m)\u001b[0m\u001b[1;33m**\u001b[0m\u001b[1;36m2\u001b[0m\u001b[1;33m)\u001b[0m\u001b[1;33m/\u001b[0m\u001b[0mlen\u001b[0m\u001b[1;33m(\u001b[0m\u001b[0mx\u001b[0m\u001b[1;33m)\u001b[0m\u001b[1;33m)\u001b[0m\u001b[1;33m\u001b[0m\u001b[1;33m\u001b[0m\u001b[0m\n\u001b[0m\u001b[0;32m     12\u001b[0m \u001b[0msigx\u001b[0m\u001b[1;33m\u001b[0m\u001b[1;33m\u001b[0m\u001b[0m\n",
      "\u001b[1;31mTypeError\u001b[0m: unsupported operand type(s) for -: 'list' and 'float'"
     ]
    }
   ],
   "source": [
    "## RANK CORRELATION COEFFICIENT\n",
    "\n",
    "x=list(map(float,input().split()))\n",
    "y=list(map(float,input().split()))"
   ]
  },
  {
   "cell_type": "code",
   "execution_count": null,
   "metadata": {},
   "outputs": [
    {
     "name": "stdout",
     "output_type": "stream",
     "text": [
      "0.7867277140983885\n"
     ]
    }
   ],
   "source": [
    "x=np.array(x)\n",
    "y=np.array(y)\n",
    "from statistics import mean\n",
    "\n",
    "mex=mean(x)\n",
    "mey=mean(y)\n",
    "\n",
    "from math import sqrt\n",
    "\n",
    "sigx=sqrt(sum((x-mex)**2)/len(x))\n",
    "sigy=sqrt(sum((y-mey)**2)/len(y))\n",
    "cov=sum(x*y)/len(x)-mex*mey\n",
    "print(cov/(sigx*sigy))"
   ]
  },
  {
   "cell_type": "code",
   "execution_count": null,
   "metadata": {},
   "outputs": [
    {
     "data": {
      "text/html": [
       "<div>\n",
       "<style scoped>\n",
       "    .dataframe tbody tr th:only-of-type {\n",
       "        vertical-align: middle;\n",
       "    }\n",
       "\n",
       "    .dataframe tbody tr th {\n",
       "        vertical-align: top;\n",
       "    }\n",
       "\n",
       "    .dataframe thead th {\n",
       "        text-align: right;\n",
       "    }\n",
       "</style>\n",
       "<table border=\"1\" class=\"dataframe\">\n",
       "  <thead>\n",
       "    <tr style=\"text-align: right;\">\n",
       "      <th></th>\n",
       "      <th>X</th>\n",
       "      <th>Y</th>\n",
       "      <th>xrank</th>\n",
       "      <th>yrank</th>\n",
       "    </tr>\n",
       "  </thead>\n",
       "  <tbody>\n",
       "    <tr>\n",
       "      <th>0</th>\n",
       "      <td>110.0</td>\n",
       "      <td>70.0</td>\n",
       "      <td>3.0</td>\n",
       "      <td>3.0</td>\n",
       "    </tr>\n",
       "    <tr>\n",
       "      <th>1</th>\n",
       "      <td>100.0</td>\n",
       "      <td>60.0</td>\n",
       "      <td>4.0</td>\n",
       "      <td>4.0</td>\n",
       "    </tr>\n",
       "    <tr>\n",
       "      <th>2</th>\n",
       "      <td>140.0</td>\n",
       "      <td>80.0</td>\n",
       "      <td>1.0</td>\n",
       "      <td>2.0</td>\n",
       "    </tr>\n",
       "    <tr>\n",
       "      <th>3</th>\n",
       "      <td>120.0</td>\n",
       "      <td>90.0</td>\n",
       "      <td>2.0</td>\n",
       "      <td>1.0</td>\n",
       "    </tr>\n",
       "    <tr>\n",
       "      <th>4</th>\n",
       "      <td>80.0</td>\n",
       "      <td>10.0</td>\n",
       "      <td>6.0</td>\n",
       "      <td>6.0</td>\n",
       "    </tr>\n",
       "    <tr>\n",
       "      <th>5</th>\n",
       "      <td>90.0</td>\n",
       "      <td>20.0</td>\n",
       "      <td>5.0</td>\n",
       "      <td>5.0</td>\n",
       "    </tr>\n",
       "  </tbody>\n",
       "</table>\n",
       "</div>"
      ],
      "text/plain": [
       "       X     Y  xrank  yrank\n",
       "0  110.0  70.0    3.0    3.0\n",
       "1  100.0  60.0    4.0    4.0\n",
       "2  140.0  80.0    1.0    2.0\n",
       "3  120.0  90.0    2.0    1.0\n",
       "4   80.0  10.0    6.0    6.0\n",
       "5   90.0  20.0    5.0    5.0"
      ]
     },
     "execution_count": 30,
     "metadata": {},
     "output_type": "execute_result"
    }
   ],
   "source": [
    "## SPEARMANS CORRELATION COEFFICIENT\n",
    "\n",
    "x=list(map(float,input().split()))\n",
    "y=list(map(float,input().split()))\n",
    "df=pd.DataFrame({'X':x,'Y':y})\n",
    "xrank=pd.Series(x).rank()\n",
    "yrank=pd.Series(y).rank()\n",
    "df['xrank']=len(x)-xrank+1\n",
    "df['yrank']=len(y)-yrank+1\n",
    "df"
   ]
  },
  {
   "cell_type": "code",
   "execution_count": null,
   "metadata": {},
   "outputs": [
    {
     "data": {
      "text/plain": [
       "0.9428571428571428"
      ]
     },
     "execution_count": 36,
     "metadata": {},
     "output_type": "execute_result"
    }
   ],
   "source": [
    "df['di']=(df['xrank']-df['yrank'])**2\n",
    "def dup(x):\n",
    "    d={}\n",
    "    sum=0\n",
    "    for i in x:\n",
    "        if i not in d:\n",
    "            d[i]=1\n",
    "        else:\n",
    "            d[i]+=1\n",
    "    for i in x:\n",
    "        sum+=(d[i]*(d[i]**2-1))/12\n",
    "    return sum\n",
    "res=1-((6*sum(df['di']))/(len(x)*(len(x)**2-1)))+dup(x)+dup(y)\n",
    "res"
   ]
  },
  {
   "cell_type": "code",
   "execution_count": null,
   "metadata": {},
   "outputs": [],
   "source": [
    "## ANOVA ONE WAY CLASSIFICATION\n",
    "import scipy.stats as ste\n",
    "df1=pd.DataFrame()\n",
    "l=[]\n",
    "tr=int(input('enter the no of treatments:'))\n",
    "for i in range(tr):\n",
    "    m=input('enter the attribute name:')\n",
    "    l1=list(map(int,input().split()))\n",
    "    # df1[m]=l1\n",
    "    l.append(np.array(l1))\n"
   ]
  },
  {
   "cell_type": "code",
   "execution_count": null,
   "metadata": {},
   "outputs": [
    {
     "name": "stderr",
     "output_type": "stream",
     "text": [
      "C:\\Users\\Admin\\AppData\\Local\\Temp/ipykernel_2472/1099207027.py:2: VisibleDeprecationWarning: Creating an ndarray from ragged nested sequences (which is a list-or-tuple of lists-or-tuples-or ndarrays with different lengths or shapes) is deprecated. If you meant to do this, you must specify 'dtype=object' when creating the ndarray.\n",
      "  l=np.array(l)\n"
     ]
    }
   ],
   "source": [
    "rss,g,n,s2tr=0,0,0,0\n",
    "l=np.array(l)\n",
    "for i in l:\n",
    "    rss+=sum(np.array(i)**2)\n",
    "    g+=sum(np.array(i))\n",
    "    s2tr+=sum(np.array(i))**2/len(i)\n",
    "    n+=len(i)\n",
    "cf=g**2/n\n",
    "sst=rss-cf\n",
    "s2tr-=cf\n",
    "se=sst-s2tr"
   ]
  },
  {
   "cell_type": "code",
   "execution_count": null,
   "metadata": {},
   "outputs": [
    {
     "name": "stdout",
     "output_type": "stream",
     "text": [
      "Reject Ho\n"
     ]
    }
   ],
   "source": [
    "S2t=s2tr/(tr-1)\n",
    "Se=se/(n-tr)\n",
    "\n",
    "F=S2t/Se\n",
    "\n",
    "los=float(input('enter los'))\n",
    "ftab=ste.f.ppf(1-los,tr-1,n-1)\n",
    "if (F>ftab):\n",
    "    print('Reject Ho')\n",
    "else:\n",
    "    print('Accept Ho')"
   ]
  },
  {
   "cell_type": "code",
   "execution_count": null,
   "metadata": {},
   "outputs": [
    {
     "data": {
      "text/html": [
       "<div>\n",
       "<style scoped>\n",
       "    .dataframe tbody tr th:only-of-type {\n",
       "        vertical-align: middle;\n",
       "    }\n",
       "\n",
       "    .dataframe tbody tr th {\n",
       "        vertical-align: top;\n",
       "    }\n",
       "\n",
       "    .dataframe thead th {\n",
       "        text-align: right;\n",
       "    }\n",
       "</style>\n",
       "<table border=\"1\" class=\"dataframe\">\n",
       "  <thead>\n",
       "    <tr style=\"text-align: right;\">\n",
       "      <th></th>\n",
       "      <th>t1</th>\n",
       "      <th>t2</th>\n",
       "      <th>t3</th>\n",
       "    </tr>\n",
       "  </thead>\n",
       "  <tbody>\n",
       "    <tr>\n",
       "      <th>0</th>\n",
       "      <td>13</td>\n",
       "      <td>6</td>\n",
       "      <td>11</td>\n",
       "    </tr>\n",
       "    <tr>\n",
       "      <th>1</th>\n",
       "      <td>7</td>\n",
       "      <td>6</td>\n",
       "      <td>5</td>\n",
       "    </tr>\n",
       "    <tr>\n",
       "      <th>2</th>\n",
       "      <td>9</td>\n",
       "      <td>3</td>\n",
       "      <td>15</td>\n",
       "    </tr>\n",
       "    <tr>\n",
       "      <th>3</th>\n",
       "      <td>3</td>\n",
       "      <td>1</td>\n",
       "      <td>5</td>\n",
       "    </tr>\n",
       "  </tbody>\n",
       "</table>\n",
       "</div>"
      ],
      "text/plain": [
       "   t1  t2  t3\n",
       "0  13   6  11\n",
       "1   7   6   5\n",
       "2   9   3  15\n",
       "3   3   1   5"
      ]
     },
     "execution_count": 87,
     "metadata": {},
     "output_type": "execute_result"
    }
   ],
   "source": [
    "## ANOVA TWO WAY CLASSIFICATION\n",
    "\n",
    "## ANOVA ONE WAY CLASSIFICATION\n",
    "import scipy.stats as ste\n",
    "df1=pd.DataFrame()\n",
    "l=[]\n",
    "tr=int(input('enter the no of treatments:'))\n",
    "for i in range(tr):\n",
    "    m=input('enter the attribute name:')\n",
    "    l1=list(map(int,input().split()))\n",
    "    df1[m]=l1\n",
    "    l.append(np.array(l1))\n",
    "df1"
   ]
  },
  {
   "cell_type": "code",
   "execution_count": 124,
   "metadata": {},
   "outputs": [],
   "source": [
    "# blocks\n",
    "bi=0\n",
    "for i in range(len(l[0])):\n",
    "    bi+=sum(df1.iloc[i])**2\n",
    "rss,g,n,s2tr=0,0,0,0\n",
    "l=np.array(l)\n",
    "for i in l:\n",
    "    rss+=sum(np.array(i)**2)\n",
    "    g+=sum(np.array(i))\n",
    "    s2tr+=sum(np.array(i))**2/len(i)\n",
    "    n+=len(i)\n",
    "cf=g**2/n\n",
    "sst=rss-cf\n",
    "s2tr-=cf\n",
    "bi2=bi/tr-cf\n",
    "\n",
    "\n",
    "\n",
    "se=sst-s2tr-bi2\n",
    "S2tr=s2tr/(tr-1)\n",
    "S2e=se/((len(df)-1)*(tr-1))\n",
    "\n",
    "\n",
    "Ftr=S2tr/S2e\n",
    "Ftb=bi2/S2e\n",
    "\n",
    "# ste.f.ppf(0.95,2,6)"
   ]
  },
  {
   "cell_type": "code",
   "execution_count": 131,
   "metadata": {},
   "outputs": [
    {
     "data": {
      "text/html": [
       "<div>\n",
       "<style scoped>\n",
       "    .dataframe tbody tr th:only-of-type {\n",
       "        vertical-align: middle;\n",
       "    }\n",
       "\n",
       "    .dataframe tbody tr th {\n",
       "        vertical-align: top;\n",
       "    }\n",
       "\n",
       "    .dataframe thead th {\n",
       "        text-align: right;\n",
       "    }\n",
       "</style>\n",
       "<table border=\"1\" class=\"dataframe\">\n",
       "  <thead>\n",
       "    <tr style=\"text-align: right;\">\n",
       "      <th></th>\n",
       "      <th>sales</th>\n",
       "      <th>absen</th>\n",
       "      <th>breakdown</th>\n",
       "    </tr>\n",
       "  </thead>\n",
       "  <tbody>\n",
       "    <tr>\n",
       "      <th>0</th>\n",
       "      <td>100.0</td>\n",
       "      <td>9.0</td>\n",
       "      <td>62.0</td>\n",
       "    </tr>\n",
       "    <tr>\n",
       "      <th>1</th>\n",
       "      <td>110.0</td>\n",
       "      <td>8.0</td>\n",
       "      <td>58.0</td>\n",
       "    </tr>\n",
       "    <tr>\n",
       "      <th>2</th>\n",
       "      <td>105.0</td>\n",
       "      <td>7.0</td>\n",
       "      <td>64.0</td>\n",
       "    </tr>\n",
       "    <tr>\n",
       "      <th>3</th>\n",
       "      <td>94.0</td>\n",
       "      <td>14.0</td>\n",
       "      <td>60.0</td>\n",
       "    </tr>\n",
       "    <tr>\n",
       "      <th>4</th>\n",
       "      <td>95.0</td>\n",
       "      <td>12.0</td>\n",
       "      <td>63.0</td>\n",
       "    </tr>\n",
       "    <tr>\n",
       "      <th>5</th>\n",
       "      <td>99.0</td>\n",
       "      <td>10.0</td>\n",
       "      <td>57.0</td>\n",
       "    </tr>\n",
       "    <tr>\n",
       "      <th>6</th>\n",
       "      <td>104.0</td>\n",
       "      <td>7.0</td>\n",
       "      <td>55.0</td>\n",
       "    </tr>\n",
       "    <tr>\n",
       "      <th>7</th>\n",
       "      <td>108.0</td>\n",
       "      <td>4.0</td>\n",
       "      <td>56.0</td>\n",
       "    </tr>\n",
       "    <tr>\n",
       "      <th>8</th>\n",
       "      <td>105.0</td>\n",
       "      <td>6.0</td>\n",
       "      <td>59.0</td>\n",
       "    </tr>\n",
       "    <tr>\n",
       "      <th>9</th>\n",
       "      <td>98.0</td>\n",
       "      <td>5.0</td>\n",
       "      <td>61.0</td>\n",
       "    </tr>\n",
       "    <tr>\n",
       "      <th>10</th>\n",
       "      <td>105.0</td>\n",
       "      <td>7.0</td>\n",
       "      <td>57.0</td>\n",
       "    </tr>\n",
       "    <tr>\n",
       "      <th>11</th>\n",
       "      <td>110.0</td>\n",
       "      <td>6.0</td>\n",
       "      <td>60.0</td>\n",
       "    </tr>\n",
       "  </tbody>\n",
       "</table>\n",
       "</div>"
      ],
      "text/plain": [
       "    sales  absen  breakdown\n",
       "0   100.0    9.0       62.0\n",
       "1   110.0    8.0       58.0\n",
       "2   105.0    7.0       64.0\n",
       "3    94.0   14.0       60.0\n",
       "4    95.0   12.0       63.0\n",
       "5    99.0   10.0       57.0\n",
       "6   104.0    7.0       55.0\n",
       "7   108.0    4.0       56.0\n",
       "8   105.0    6.0       59.0\n",
       "9    98.0    5.0       61.0\n",
       "10  105.0    7.0       57.0\n",
       "11  110.0    6.0       60.0"
      ]
     },
     "execution_count": 131,
     "metadata": {},
     "output_type": "execute_result"
    }
   ],
   "source": [
    "## MULTI LINEAR REGRESSION\n",
    "df2=pd.DataFrame()\n",
    "l=[]\n",
    "n=int(input('enter the no of ATTRIBUTES:'))\n",
    "for i in range(n):\n",
    "    m=input('enter the attribute name:')\n",
    "    l1=list(map(float,input().split()))\n",
    "    l.append(l1)\n",
    "    df2[m]=l1\n",
    "df2"
   ]
  },
  {
   "cell_type": "code",
   "execution_count": 169,
   "metadata": {},
   "outputs": [
    {
     "data": {
      "text/plain": [
       "[0      9.0\n",
       " 1      8.0\n",
       " 2      7.0\n",
       " 3     14.0\n",
       " 4     12.0\n",
       " 5     10.0\n",
       " 6      7.0\n",
       " 7      4.0\n",
       " 8      6.0\n",
       " 9      5.0\n",
       " 10     7.0\n",
       " 11     6.0\n",
       " Name: absen, dtype: float64,\n",
       " 0     62.0\n",
       " 1     58.0\n",
       " 2     64.0\n",
       " 3     60.0\n",
       " 4     63.0\n",
       " 5     57.0\n",
       " 6     55.0\n",
       " 7     56.0\n",
       " 8     59.0\n",
       " 9     61.0\n",
       " 10    57.0\n",
       " 11    60.0\n",
       " Name: breakdown, dtype: float64]"
      ]
     },
     "execution_count": 169,
     "metadata": {},
     "output_type": "execute_result"
    }
   ],
   "source": [
    "dep=[]\n",
    "for i in range(int(input('enter the no of dependetn variables'))):\n",
    "    m=input('enter the variable')\n",
    "    dep.append(df2[m])\n",
    "dep"
   ]
  },
  {
   "cell_type": "code",
   "execution_count": 175,
   "metadata": {},
   "outputs": [
    {
     "ename": "KeyError",
     "evalue": "'sales'",
     "output_type": "error",
     "traceback": [
      "\u001b[1;31m---------------------------------------------------------------------------\u001b[0m",
      "\u001b[1;31mKeyError\u001b[0m                                  Traceback (most recent call last)",
      "\u001b[1;32m~\\AppData\\Local\\Packages\\PythonSoftwareFoundation.Python.3.9_qbz5n2kfra8p0\\LocalCache\\local-packages\\Python39\\site-packages\\pandas\\core\\indexes\\base.py\u001b[0m in \u001b[0;36mget_loc\u001b[1;34m(self, key, method, tolerance)\u001b[0m\n\u001b[0;32m   3620\u001b[0m             \u001b[1;32mtry\u001b[0m\u001b[1;33m:\u001b[0m\u001b[1;33m\u001b[0m\u001b[1;33m\u001b[0m\u001b[0m\n\u001b[1;32m-> 3621\u001b[1;33m                 \u001b[1;32mreturn\u001b[0m \u001b[0mself\u001b[0m\u001b[1;33m.\u001b[0m\u001b[0m_engine\u001b[0m\u001b[1;33m.\u001b[0m\u001b[0mget_loc\u001b[0m\u001b[1;33m(\u001b[0m\u001b[0mcasted_key\u001b[0m\u001b[1;33m)\u001b[0m\u001b[1;33m\u001b[0m\u001b[1;33m\u001b[0m\u001b[0m\n\u001b[0m\u001b[0;32m   3622\u001b[0m             \u001b[1;32mexcept\u001b[0m \u001b[0mKeyError\u001b[0m \u001b[1;32mas\u001b[0m \u001b[0merr\u001b[0m\u001b[1;33m:\u001b[0m\u001b[1;33m\u001b[0m\u001b[1;33m\u001b[0m\u001b[0m\n",
      "\u001b[1;32m~\\AppData\\Local\\Packages\\PythonSoftwareFoundation.Python.3.9_qbz5n2kfra8p0\\LocalCache\\local-packages\\Python39\\site-packages\\pandas\\_libs\\index.pyx\u001b[0m in \u001b[0;36mpandas._libs.index.IndexEngine.get_loc\u001b[1;34m()\u001b[0m\n",
      "\u001b[1;32m~\\AppData\\Local\\Packages\\PythonSoftwareFoundation.Python.3.9_qbz5n2kfra8p0\\LocalCache\\local-packages\\Python39\\site-packages\\pandas\\_libs\\index.pyx\u001b[0m in \u001b[0;36mpandas._libs.index.IndexEngine.get_loc\u001b[1;34m()\u001b[0m\n",
      "\u001b[1;32mpandas\\_libs\\hashtable_class_helper.pxi\u001b[0m in \u001b[0;36mpandas._libs.hashtable.PyObjectHashTable.get_item\u001b[1;34m()\u001b[0m\n",
      "\u001b[1;32mpandas\\_libs\\hashtable_class_helper.pxi\u001b[0m in \u001b[0;36mpandas._libs.hashtable.PyObjectHashTable.get_item\u001b[1;34m()\u001b[0m\n",
      "\u001b[1;31mKeyError\u001b[0m: 'sales'",
      "\nThe above exception was the direct cause of the following exception:\n",
      "\u001b[1;31mKeyError\u001b[0m                                  Traceback (most recent call last)",
      "\u001b[1;32m~\\AppData\\Local\\Temp/ipykernel_2472/3780978656.py\u001b[0m in \u001b[0;36m<module>\u001b[1;34m\u001b[0m\n\u001b[0;32m      1\u001b[0m \u001b[0mdep\u001b[0m\u001b[1;33m=\u001b[0m\u001b[0mnp\u001b[0m\u001b[1;33m.\u001b[0m\u001b[0marray\u001b[0m\u001b[1;33m(\u001b[0m\u001b[0mdep\u001b[0m\u001b[1;33m)\u001b[0m\u001b[1;33m\u001b[0m\u001b[1;33m\u001b[0m\u001b[0m\n\u001b[0;32m      2\u001b[0m \u001b[0mdep\u001b[0m\u001b[1;33m.\u001b[0m\u001b[0mT\u001b[0m\u001b[1;33m\u001b[0m\u001b[1;33m\u001b[0m\u001b[0m\n\u001b[1;32m----> 3\u001b[1;33m \u001b[0mx\u001b[0m\u001b[1;33m=\u001b[0m\u001b[0mnp\u001b[0m\u001b[1;33m.\u001b[0m\u001b[0mones\u001b[0m\u001b[1;33m(\u001b[0m\u001b[1;33m(\u001b[0m\u001b[0mlen\u001b[0m\u001b[1;33m(\u001b[0m\u001b[0mdf\u001b[0m\u001b[1;33m[\u001b[0m\u001b[1;34m'sales'\u001b[0m\u001b[1;33m]\u001b[0m\u001b[1;33m)\u001b[0m\u001b[1;33m,\u001b[0m\u001b[1;36m1\u001b[0m\u001b[1;33m)\u001b[0m\u001b[1;33m)\u001b[0m\u001b[1;33m\u001b[0m\u001b[1;33m\u001b[0m\u001b[0m\n\u001b[0m\u001b[0;32m      4\u001b[0m \u001b[0mx\u001b[0m\u001b[1;33m=\u001b[0m\u001b[0mnp\u001b[0m\u001b[1;33m.\u001b[0m\u001b[0mhstack\u001b[0m\u001b[1;33m(\u001b[0m\u001b[1;33m(\u001b[0m\u001b[0mx\u001b[0m\u001b[1;33m,\u001b[0m\u001b[0mdf\u001b[0m\u001b[1;33m.\u001b[0m\u001b[0miloc\u001b[0m\u001b[1;33m[\u001b[0m\u001b[1;33m:\u001b[0m\u001b[1;33m,\u001b[0m\u001b[1;36m2\u001b[0m\u001b[1;33m:\u001b[0m\u001b[1;33m]\u001b[0m\u001b[1;33m)\u001b[0m\u001b[1;33m)\u001b[0m\u001b[1;33m\u001b[0m\u001b[1;33m\u001b[0m\u001b[0m\n",
      "\u001b[1;32m~\\AppData\\Local\\Packages\\PythonSoftwareFoundation.Python.3.9_qbz5n2kfra8p0\\LocalCache\\local-packages\\Python39\\site-packages\\pandas\\core\\frame.py\u001b[0m in \u001b[0;36m__getitem__\u001b[1;34m(self, key)\u001b[0m\n\u001b[0;32m   3503\u001b[0m             \u001b[1;32mif\u001b[0m \u001b[0mself\u001b[0m\u001b[1;33m.\u001b[0m\u001b[0mcolumns\u001b[0m\u001b[1;33m.\u001b[0m\u001b[0mnlevels\u001b[0m \u001b[1;33m>\u001b[0m \u001b[1;36m1\u001b[0m\u001b[1;33m:\u001b[0m\u001b[1;33m\u001b[0m\u001b[1;33m\u001b[0m\u001b[0m\n\u001b[0;32m   3504\u001b[0m                 \u001b[1;32mreturn\u001b[0m \u001b[0mself\u001b[0m\u001b[1;33m.\u001b[0m\u001b[0m_getitem_multilevel\u001b[0m\u001b[1;33m(\u001b[0m\u001b[0mkey\u001b[0m\u001b[1;33m)\u001b[0m\u001b[1;33m\u001b[0m\u001b[1;33m\u001b[0m\u001b[0m\n\u001b[1;32m-> 3505\u001b[1;33m             \u001b[0mindexer\u001b[0m \u001b[1;33m=\u001b[0m \u001b[0mself\u001b[0m\u001b[1;33m.\u001b[0m\u001b[0mcolumns\u001b[0m\u001b[1;33m.\u001b[0m\u001b[0mget_loc\u001b[0m\u001b[1;33m(\u001b[0m\u001b[0mkey\u001b[0m\u001b[1;33m)\u001b[0m\u001b[1;33m\u001b[0m\u001b[1;33m\u001b[0m\u001b[0m\n\u001b[0m\u001b[0;32m   3506\u001b[0m             \u001b[1;32mif\u001b[0m \u001b[0mis_integer\u001b[0m\u001b[1;33m(\u001b[0m\u001b[0mindexer\u001b[0m\u001b[1;33m)\u001b[0m\u001b[1;33m:\u001b[0m\u001b[1;33m\u001b[0m\u001b[1;33m\u001b[0m\u001b[0m\n\u001b[0;32m   3507\u001b[0m                 \u001b[0mindexer\u001b[0m \u001b[1;33m=\u001b[0m \u001b[1;33m[\u001b[0m\u001b[0mindexer\u001b[0m\u001b[1;33m]\u001b[0m\u001b[1;33m\u001b[0m\u001b[1;33m\u001b[0m\u001b[0m\n",
      "\u001b[1;32m~\\AppData\\Local\\Packages\\PythonSoftwareFoundation.Python.3.9_qbz5n2kfra8p0\\LocalCache\\local-packages\\Python39\\site-packages\\pandas\\core\\indexes\\base.py\u001b[0m in \u001b[0;36mget_loc\u001b[1;34m(self, key, method, tolerance)\u001b[0m\n\u001b[0;32m   3621\u001b[0m                 \u001b[1;32mreturn\u001b[0m \u001b[0mself\u001b[0m\u001b[1;33m.\u001b[0m\u001b[0m_engine\u001b[0m\u001b[1;33m.\u001b[0m\u001b[0mget_loc\u001b[0m\u001b[1;33m(\u001b[0m\u001b[0mcasted_key\u001b[0m\u001b[1;33m)\u001b[0m\u001b[1;33m\u001b[0m\u001b[1;33m\u001b[0m\u001b[0m\n\u001b[0;32m   3622\u001b[0m             \u001b[1;32mexcept\u001b[0m \u001b[0mKeyError\u001b[0m \u001b[1;32mas\u001b[0m \u001b[0merr\u001b[0m\u001b[1;33m:\u001b[0m\u001b[1;33m\u001b[0m\u001b[1;33m\u001b[0m\u001b[0m\n\u001b[1;32m-> 3623\u001b[1;33m                 \u001b[1;32mraise\u001b[0m \u001b[0mKeyError\u001b[0m\u001b[1;33m(\u001b[0m\u001b[0mkey\u001b[0m\u001b[1;33m)\u001b[0m \u001b[1;32mfrom\u001b[0m \u001b[0merr\u001b[0m\u001b[1;33m\u001b[0m\u001b[1;33m\u001b[0m\u001b[0m\n\u001b[0m\u001b[0;32m   3624\u001b[0m             \u001b[1;32mexcept\u001b[0m \u001b[0mTypeError\u001b[0m\u001b[1;33m:\u001b[0m\u001b[1;33m\u001b[0m\u001b[1;33m\u001b[0m\u001b[0m\n\u001b[0;32m   3625\u001b[0m                 \u001b[1;31m# If we have a listlike key, _check_indexing_error will raise\u001b[0m\u001b[1;33m\u001b[0m\u001b[1;33m\u001b[0m\u001b[0m\n",
      "\u001b[1;31mKeyError\u001b[0m: 'sales'"
     ]
    }
   ],
   "source": [
    "dep=np.array(dep)\n",
    "dep.T\n",
    "x=np.ones((len(df['sales']),1))\n",
    "x=np.hstack((x,df.iloc[:,2:]))"
   ]
  },
  {
   "cell_type": "code",
   "execution_count": 4,
   "metadata": {},
   "outputs": [],
   "source": [
    "## \n",
    "\n",
    "df=pd.DataFrame()\n",
    "n=int(input('enter the no of variables:'))\n",
    "dep=int(input('enter the no of dependent variables:'))\n",
    "for i in range(n):\n",
    "    df[input('enter the variable name:')]=list(map(float,input().split()))"
   ]
  },
  {
   "cell_type": "code",
   "execution_count": 5,
   "metadata": {},
   "outputs": [],
   "source": [
    "dependent=[]\n",
    "for i in range(dep):\n",
    "    s=input('enter the dependent variables:')\n",
    "    dependent.append(list(df[s]))"
   ]
  },
  {
   "cell_type": "code",
   "execution_count": 27,
   "metadata": {},
   "outputs": [
    {
     "data": {
      "text/plain": [
       "array([[  128. ,  1233. ],\n",
       "       [  987. ,  9636. ],\n",
       "       [ 7580. , 73094. ],\n",
       "       [  137.3,  1314.4]])"
      ]
     },
     "execution_count": 27,
     "metadata": {},
     "output_type": "execute_result"
    }
   ],
   "source": [
    "dependent=np.array(dependent)\n",
    "dependent.shape\n",
    "dependent=dependent.T\n",
    "length=len(df['sales'])\n",
    "X=np.ones((length,1))\n",
    "X=np.hstack((X,df.iloc[:,dep:]))\n",
    "Xtrans=[[X[i][j] for i in range(len(X))] for j in range(len(X[0]))]\n",
    "X=np.array(X)\n",
    "#dependent.shape\n",
    "Xtrans@dependent"
   ]
  },
  {
   "cell_type": "code",
   "execution_count": 38,
   "metadata": {},
   "outputs": [
    {
     "name": "stdout",
     "output_type": "stream",
     "text": [
      "24\n"
     ]
    }
   ],
   "source": [
    "def cof(m,i,j):\n",
    "    c=m[:]\n",
    "    c=np.delete(c,(i),axis=0)\n",
    "    c=np.delete(c,(j),axis=1)\n",
    "    return c\n",
    "def dete(m):\n",
    "    if m.shape==(2,2):\n",
    "        return m[0][0]*m[1][1]-m[0][1]*m[1][0]\n",
    "    elif m.shape==(3,3):\n",
    "        d=0\n",
    "        for i in range(3):\n",
    "            #print(d)\n",
    "            if i%2==0:\n",
    "                d+=m[0][i]*dete(cof(m,0,i))\n",
    "            else:\n",
    "                d-=m[0][i]*dete(cof(m,0,i))\n",
    "        return d\n",
    "x=np.array([[1,2,3],\n",
    "            [4,3,6],[7,8,9]])\n",
    "\n",
    "print(dete(x))"
   ]
  },
  {
   "cell_type": "code",
   "execution_count": 9,
   "metadata": {},
   "outputs": [
    {
     "name": "stdout",
     "output_type": "stream",
     "text": [
      "[[1.0, 0.0, 0.0], [0.0, 0.0, 0.0], [0.0, 0.0, 1.0]]\n",
      "[[1. 0. 0.]\n",
      " [0. 1. 0.]\n",
      " [0. 0. 1.]]\n"
     ]
    }
   ],
   "source": [
    "a=[[1,0,0],[0,0,0],[0,0,1]]\n",
    "b=np.identity(3)\n",
    "c=[[0 for i in range(3) ]for j in range(3)]\n",
    "for i in range(len(a[0])):\n",
    "    for j in range(len(a[0])):\n",
    "        for k in range(len(a[0])):\n",
    "            c[i][j]+=a[i][k]*b[k][j]\n",
    "print(c)\n",
    "print(b)"
   ]
  },
  {
   "cell_type": "code",
   "execution_count": 27,
   "metadata": {},
   "outputs": [
    {
     "name": "stdout",
     "output_type": "stream",
     "text": [
      "[[5, 6, 4, 5], [8, 9, 7, 8], [2, 3, 1, 2], [5, 6, 4, 5]]\n"
     ]
    }
   ],
   "source": [
    "# # inverse function\n",
    "\n",
    "a=[[1,2,3],[4,5,6],[7,8,9]]\n",
    "c=1\n",
    "res=[]\n",
    "for i in range(1,4):\n",
    "    l=[]\n",
    "    for j in range(1,4):\n",
    "        \n",
    "        l.append(a[i%3][j%3])\n",
    "    l.append(a[i%3][c%3])\n",
    "    \n",
    "    res.append(l)\n",
    "res.append(res[0])\n",
    "\n",
    "res1=[[0 for i in range(3)] for j in range(3)]\n",
    "for i in range(3):\n",
    "    l=[]\n",
    "    for j in range(3):\n",
    "        # for k in range(2):\n",
    "            res1[i][j]+=res[i][j]*res[i+1][i+1]-res[i][i+1]*res[i+1][i+1]\n"
   ]
  },
  {
   "cell_type": "code",
   "execution_count": 1,
   "metadata": {},
   "outputs": [],
   "source": [
    "import numpy as np\n",
    "import pandas as pd\n"
   ]
  },
  {
   "cell_type": "code",
   "execution_count": 16,
   "metadata": {},
   "outputs": [
    {
     "name": "stdout",
     "output_type": "stream",
     "text": [
      "crrelation coefficient:  0.7867277140983885\n"
     ]
    }
   ],
   "source": [
    "##karl pearson coefficient\n",
    "\n",
    "x=list(map(int,input().split()))\n",
    "y=list(map(int,input().split()))\n",
    "\n",
    "x=np.array(x)\n",
    "y=np.array(y)\n",
    "n=len(x)\n",
    "\n",
    "from math import sqrt\n",
    "\n",
    "meax=sum(x)/n\n",
    "meay=sum(y)/n\n",
    "cov=sum(x*y)/n-(meax*meay)\n",
    "sigx=sqrt((sum(x**2)/n)-meax**2)\n",
    "sigy=sqrt((sum(y**2)/n)-meay**2)\n",
    "\n",
    "r=cov/(sigx*sigy)\n",
    "\n",
    "print('crrelation coefficient: ',r)"
   ]
  },
  {
   "cell_type": "code",
   "execution_count": 77,
   "metadata": {},
   "outputs": [
    {
     "ename": "ValueError",
     "evalue": "operands could not be broadcast together with shapes (9,) (7,) ",
     "output_type": "error",
     "traceback": [
      "\u001b[1;31m---------------------------------------------------------------------------\u001b[0m",
      "\u001b[1;31mValueError\u001b[0m                                Traceback (most recent call last)",
      "\u001b[1;32m~\\AppData\\Local\\Temp/ipykernel_18812/606622576.py\u001b[0m in \u001b[0;36m<module>\u001b[1;34m\u001b[0m\n\u001b[0;32m     37\u001b[0m \u001b[0mranky\u001b[0m\u001b[1;33m=\u001b[0m\u001b[0mnp\u001b[0m\u001b[1;33m.\u001b[0m\u001b[0marray\u001b[0m\u001b[1;33m(\u001b[0m\u001b[0mranks\u001b[0m\u001b[1;33m(\u001b[0m\u001b[0my\u001b[0m\u001b[1;33m)\u001b[0m\u001b[1;33m)\u001b[0m\u001b[1;33m\u001b[0m\u001b[1;33m\u001b[0m\u001b[0m\n\u001b[0;32m     38\u001b[0m \u001b[1;33m\u001b[0m\u001b[0m\n\u001b[1;32m---> 39\u001b[1;33m \u001b[0mdi2\u001b[0m\u001b[1;33m=\u001b[0m\u001b[0msum\u001b[0m\u001b[1;33m(\u001b[0m\u001b[1;33m(\u001b[0m\u001b[0mranky\u001b[0m\u001b[1;33m-\u001b[0m\u001b[0mrankx\u001b[0m\u001b[1;33m)\u001b[0m\u001b[1;33m**\u001b[0m\u001b[1;36m2\u001b[0m\u001b[1;33m)\u001b[0m\u001b[1;33m+\u001b[0m\u001b[0mext\u001b[0m\u001b[1;33m(\u001b[0m\u001b[0mx\u001b[0m\u001b[1;33m)\u001b[0m\u001b[1;33m+\u001b[0m\u001b[0mext\u001b[0m\u001b[1;33m(\u001b[0m\u001b[0my\u001b[0m\u001b[1;33m)\u001b[0m\u001b[1;33m\u001b[0m\u001b[1;33m\u001b[0m\u001b[0m\n\u001b[0m\u001b[0;32m     40\u001b[0m \u001b[1;33m\u001b[0m\u001b[0m\n\u001b[0;32m     41\u001b[0m \u001b[0mrow\u001b[0m\u001b[1;33m=\u001b[0m\u001b[1;36m1\u001b[0m\u001b[1;33m-\u001b[0m\u001b[1;33m(\u001b[0m\u001b[1;33m(\u001b[0m\u001b[1;36m6\u001b[0m\u001b[1;33m*\u001b[0m\u001b[0mdi2\u001b[0m\u001b[1;33m)\u001b[0m\u001b[1;33m/\u001b[0m\u001b[1;33m(\u001b[0m\u001b[0mn\u001b[0m\u001b[1;33m*\u001b[0m\u001b[1;33m(\u001b[0m\u001b[0mn\u001b[0m\u001b[1;33m**\u001b[0m\u001b[1;36m2\u001b[0m\u001b[1;33m-\u001b[0m\u001b[1;36m1\u001b[0m\u001b[1;33m)\u001b[0m\u001b[1;33m)\u001b[0m\u001b[1;33m)\u001b[0m\u001b[1;33m\u001b[0m\u001b[1;33m\u001b[0m\u001b[0m\n",
      "\u001b[1;31mValueError\u001b[0m: operands could not be broadcast together with shapes (9,) (7,) "
     ]
    }
   ],
   "source": [
    "## spearsons correlation coefficient\n",
    "\n",
    "# x=np.array(list(map(int,input().split())))\n",
    "# y=np.array(list(map(int,input().split())))\n",
    "\n",
    "def ranks(x):\n",
    "    x=list(x)\n",
    "    l=[]\n",
    "    y=sorted(x,reverse=True)\n",
    "    d={}\n",
    "    r=1\n",
    "    for i in y:\n",
    "        if i in d.keys():\n",
    "            d[i]+=r\n",
    "        else:\n",
    "            d[i]=r\n",
    "        r+=1\n",
    "    for i in d.keys():\n",
    "        l.append(d[i]/y.count(i))\n",
    "    return l\n",
    "def ext(x):\n",
    "    x=list(x)\n",
    "    d={}\n",
    "    for i in x:\n",
    "        if i in d:\n",
    "            d[i]+=1\n",
    "        else:\n",
    "            d[i]=1\n",
    "    s=0\n",
    "    for i in d:\n",
    "        s+=(d[i]*(d[i]**2-1))/12\n",
    "    return s \n",
    "n=len(x)\n",
    "# rankx=ranks(x)\n",
    "# ranky=ranks(y)\n",
    "rankx=np.array(ranks(x))\n",
    "ranky=np.array(ranks(y))\n",
    "\n",
    "di2=sum((ranky-rankx)**2)+ext(x)+ext(y)\n",
    "\n",
    "row=1-((6*di2)/(n*(n**2-1)))\n",
    "\n",
    "row\n"
   ]
  },
  {
   "cell_type": "code",
   "execution_count": 83,
   "metadata": {},
   "outputs": [
    {
     "ename": "ValueError",
     "evalue": "operands could not be broadcast together with shapes (6,) (5,) (6,) ",
     "output_type": "error",
     "traceback": [
      "\u001b[1;31m---------------------------------------------------------------------------\u001b[0m",
      "\u001b[1;31mValueError\u001b[0m                                Traceback (most recent call last)",
      "\u001b[1;32m~\\AppData\\Local\\Temp/ipykernel_18812/2298368828.py\u001b[0m in \u001b[0;36m<module>\u001b[1;34m\u001b[0m\n\u001b[0;32m     14\u001b[0m \u001b[1;32mfor\u001b[0m \u001b[0mi\u001b[0m \u001b[1;32min\u001b[0m \u001b[0ml\u001b[0m\u001b[1;33m:\u001b[0m\u001b[1;33m\u001b[0m\u001b[1;33m\u001b[0m\u001b[0m\n\u001b[0;32m     15\u001b[0m     \u001b[1;32mfor\u001b[0m \u001b[0mj\u001b[0m \u001b[1;32min\u001b[0m \u001b[0mi\u001b[0m\u001b[1;33m:\u001b[0m\u001b[1;33m\u001b[0m\u001b[1;33m\u001b[0m\u001b[0m\n\u001b[1;32m---> 16\u001b[1;33m         \u001b[0mcf\u001b[0m\u001b[1;33m+=\u001b[0m\u001b[0mj\u001b[0m\u001b[1;33m\u001b[0m\u001b[1;33m\u001b[0m\u001b[0m\n\u001b[0m\u001b[0;32m     17\u001b[0m \u001b[1;33m\u001b[0m\u001b[0m\n\u001b[0;32m     18\u001b[0m         \u001b[0mrss\u001b[0m\u001b[1;33m+=\u001b[0m\u001b[0mj\u001b[0m\u001b[1;33m**\u001b[0m\u001b[1;36m2\u001b[0m\u001b[1;33m\u001b[0m\u001b[1;33m\u001b[0m\u001b[0m\n",
      "\u001b[1;31mValueError\u001b[0m: operands could not be broadcast together with shapes (6,) (5,) (6,) "
     ]
    }
   ],
   "source": [
    "n=int(input())\n",
    "l=[]\n",
    "tot=0\n",
    "df=pd.DataFrame()\n",
    "for i in range(n):\n",
    "    l1=[]\n",
    "    l1.append(list(map(int,input().split())))\n",
    "    df[input('enter the name:')]=l1\n",
    "    l.append(l1)\n",
    "l=np.array(l)\n",
    "\n",
    "rss,cf,sstr=0,0,0\n",
    "tot=0\n",
    "for i in l:\n",
    "    for j in i:\n",
    "        cf+=j\n",
    "        \n",
    "        rss+=j**2\n",
    "        tot+=1\n",
    "    sstr+=sum(i**2)/len(i)\n",
    "sst=rss-cf\n",
    "sstr=sstr-cf\n",
    "sse=sstr-cf\n",
    "\n",
    "print(rss,cf,sst,sstr,sse)\n",
    "\n"
   ]
  },
  {
   "cell_type": "code",
   "execution_count": 1,
   "metadata": {},
   "outputs": [],
   "source": [
    "import numpy as np\n",
    "import pandas as pd\n",
    "\n",
    "n=int(input('enter the no of attributes :'))\n",
    "df=pd.DataFrame()\n",
    "for i in range(n):\n",
    "    m=input('enter the name of attribute :')\n",
    "    df[m]=list(map(float,input().split()))\n",
    "    \n",
    "xk=[0,0]\n",
    "\n",
    "xk[0]=float(input('enter the curvature of chip:'))\n",
    "xk[1]=float(input('enter the diameter of the chip:'))"
   ]
  },
  {
   "cell_type": "code",
   "execution_count": 42,
   "metadata": {},
   "outputs": [],
   "source": [
    "x1=[]\n",
    "x2=[]\n",
    "for i in range(len(df)):\n",
    "    l=[]\n",
    "    if df['ones'][i]==1:\n",
    "        l.append(df['x1'][i])\n",
    "        l.append(df['x2'][i])\n",
    "        x1.append(l)\n",
    "    else:\n",
    "        l.append(df['x1'][i])\n",
    "        l.append(df['x2'][i])\n",
    "        x2.append(l)\n",
    "x=np.array([df['x1'],df['x2']])\n",
    "y=np.copy(x)"
   ]
  },
  {
   "cell_type": "code",
   "execution_count": 44,
   "metadata": {},
   "outputs": [],
   "source": [
    "def men(a):\n",
    "    m1,m2=0,0\n",
    "    for i in a:\n",
    "        m1+=i[0]\n",
    "        m2+=i[1]\n",
    "    return [m1/len(a),m2/len(a)]\n",
    "mew1=men(x1)\n",
    "mew2=men(x2)\n",
    "mew=[]\n",
    "m1,m2=0,0\n",
    "for i in range(len(x[0])):\n",
    "        m1+=x[0][i]\n",
    "        m2+=x[1][i]\n",
    "mew.append(m1/len(x[0]))\n",
    "mew.append(m2/len(x[0]))\n",
    "\n",
    "x.reshape(2,10)\n",
    "\n",
    "for i in range(len (x[0])):\n",
    "    x[0][i]-=mew[0]\n",
    "    \n",
    "    x[1][i]-=mew[1]\n"
   ]
  },
  {
   "cell_type": "code",
   "execution_count": 68,
   "metadata": {},
   "outputs": [
    {
     "name": "stdout",
     "output_type": "stream",
     "text": [
      "[[ 1.8e+02  1.4e+02  1.0e+02  6.0e+01 -6.0e+01  2.0e+01 -2.0e+01 -1.0e+02\n",
      "  -1.4e+02 -1.8e+02]\n",
      " [-3.0e-01  7.0e-01 -1.0e-01 -5.0e-01  9.0e-01 -9.0e-01  5.0e-01  3.0e-01\n",
      "  -7.0e-01  1.0e-01]]\n"
     ]
    }
   ],
   "source": [
    "def trans(x):\n",
    "    return [[x[i][j] for i in range(len(x))] for j in range(len(x[0]))]\n",
    "\n",
    "print(x)\n",
    "x.shape\n",
    "cinv=np.linalg.inv(x@trans(x)/len(df['x1']))"
   ]
  },
  {
   "cell_type": "code",
   "execution_count": 69,
   "metadata": {},
   "outputs": [
    {
     "name": "stdout",
     "output_type": "stream",
     "text": [
      "the observation belongs to group-2\n"
     ]
    }
   ],
   "source": [
    "xk=np.array(xk).transpose()\n",
    "from cmath import log\n",
    "\n",
    "f1=(np.array(mew1)@cinv@xk)-0.5*(np.array(mew1)@cinv@(np.array(mew1).transpose()))+log(len(x1)/len(x[0]))\n",
    "\n",
    "f2=(mew2@cinv@xk)-0.5*(mew2@cinv@(np.array(mew2).transpose()))+log(len(x2)/len(x[0]))\n",
    "\n",
    "if f1>f2:\n",
    "    print('the observation belongs to group-1')\n",
    "    \n",
    "else:\n",
    "    print('the observation belongs to group-2')"
   ]
  },
  {
   "cell_type": "code",
   "execution_count": 3,
   "metadata": {},
   "outputs": [
    {
     "ename": "NameError",
     "evalue": "name 'df' is not defined",
     "output_type": "error",
     "traceback": [
      "\u001b[1;31m---------------------------------------------------------------------------\u001b[0m",
      "\u001b[1;31mNameError\u001b[0m                                 Traceback (most recent call last)",
      "\u001b[1;32m~\\AppData\\Local\\Temp/ipykernel_10904/2887057103.py\u001b[0m in \u001b[0;36m<module>\u001b[1;34m\u001b[0m\n\u001b[0;32m      1\u001b[0m xtrans=(np.array([[1,1,1,1,1,1,1,1,1,1]\n\u001b[1;32m----> 2\u001b[1;33m             \u001b[1;33m,\u001b[0m\u001b[0mdf\u001b[0m\u001b[1;33m.\u001b[0m\u001b[0miloc\u001b[0m\u001b[1;33m[\u001b[0m\u001b[1;33m:\u001b[0m\u001b[1;33m,\u001b[0m\u001b[1;36m0\u001b[0m\u001b[1;33m]\u001b[0m\u001b[1;33m\u001b[0m\u001b[1;33m\u001b[0m\u001b[0m\n\u001b[0m\u001b[0;32m      3\u001b[0m            ,df.iloc[:,1]]))\n\u001b[0;32m      4\u001b[0m \u001b[1;33m\u001b[0m\u001b[0m\n\u001b[0;32m      5\u001b[0m \u001b[0my\u001b[0m\u001b[1;33m=\u001b[0m\u001b[0mnp\u001b[0m\u001b[1;33m.\u001b[0m\u001b[0marray\u001b[0m\u001b[1;33m(\u001b[0m\u001b[1;33m[\u001b[0m\u001b[0mdf\u001b[0m\u001b[1;33m[\u001b[0m\u001b[1;34m'ones'\u001b[0m\u001b[1;33m]\u001b[0m\u001b[1;33m]\u001b[0m\u001b[1;33m)\u001b[0m\u001b[1;33m\u001b[0m\u001b[1;33m\u001b[0m\u001b[0m\n",
      "\u001b[1;31mNameError\u001b[0m: name 'df' is not defined"
     ]
    }
   ],
   "source": [
    "xtrans=(np.array([[1,1,1,1,1,1,1,1,1,1]\n",
    "            ,df.iloc[:,0]\n",
    "           ,df.iloc[:,1]]))\n",
    "\n",
    "y=np.array([df['ones']])\n",
    "y=np.matrix(y).reshape(10,1)\n",
    "\n",
    "xtrans"
   ]
  },
  {
   "cell_type": "code",
   "execution_count": 8,
   "metadata": {},
   "outputs": [
    {
     "name": "stdout",
     "output_type": "stream",
     "text": [
      "[[-2.0, 3.0, -1.0], [4.0, -6.0, 2.0], [-2.0, 3.0, -1.0]]\n",
      "0.0\n",
      "[[-inf  inf -inf]\n",
      " [ inf -inf  inf]\n",
      " [-inf  inf -inf]]\n"
     ]
    },
    {
     "name": "stderr",
     "output_type": "stream",
     "text": [
      "C:\\Users\\Admin\\AppData\\Local\\Temp/ipykernel_10776/2513090685.py:48: RuntimeWarning: divide by zero encountered in true_divide\n",
      "  return l/deter(l)\n"
     ]
    }
   ],
   "source": [
    "import numpy as np\n",
    "\n",
    "def minor(x,i,j):\n",
    "    c=np.copy(x)\n",
    "    c= np.delete(c,(i),axis=0)\n",
    "    c = np.delete(c,(j),axis=1)\n",
    "    return c\n",
    "\n",
    "def deter(x):\n",
    "    c=np.array(x)\n",
    "    si=c.shape\n",
    "    det=0\n",
    "    if si==(2,2):\n",
    "        det=x[0][0]*x[1][1]-x[1][0]*x[0][1]\n",
    "    elif si == (3,3):\n",
    "        for i in range(3):\n",
    "            idet=minor(x,0,i)\n",
    "            if i%2==0:\n",
    "                det+=x[0][i]*deter(idet)\n",
    "            else:\n",
    "                det-=x[0][i]*deter(idet)\n",
    "    return det\n",
    "\n",
    "\n",
    "def invmin(x,i,j):\n",
    "    return x[i:i+2,j:j+2]\n",
    "\n",
    "def trans(x):\n",
    "    return [[x[i][j] for i in range(len(x))] for j in range(len(x[0]))]\n",
    "\n",
    "def cofac(x):\n",
    "    le=x.shape\n",
    "    c=np.zeros((4,4),float)\n",
    "    for i in range(4):\n",
    "        for j in range(4):\n",
    "            c[i][j]=x[(i+1)%3][(j+1)%3]\n",
    "    l=np.zeros((3,3),float)\n",
    "    for i in range(3):\n",
    "        for j in range(3):\n",
    "            l[i][j]=deter(invmin(c,i,j))\n",
    "    return trans(l)\n",
    "\n",
    "def inv(x):\n",
    "\n",
    "    l=cofac(x)\n",
    "    print(l)\n",
    "    print(deter(l))\n",
    "    return l/deter(l)\n",
    "\n",
    "x=np.array([[1,2,3]\n",
    ",[2,3,4]\n",
    ",[4,5,6]])\n",
    "\n",
    "\n",
    "print(inv(x))"
   ]
  },
  {
   "cell_type": "code",
   "execution_count": 9,
   "metadata": {},
   "outputs": [
    {
     "ename": "LinAlgError",
     "evalue": "Singular matrix",
     "output_type": "error",
     "traceback": [
      "\u001b[1;31m---------------------------------------------------------------------------\u001b[0m",
      "\u001b[1;31mLinAlgError\u001b[0m                               Traceback (most recent call last)",
      "\u001b[1;32m~\\AppData\\Local\\Temp/ipykernel_10776/842879059.py\u001b[0m in \u001b[0;36m<module>\u001b[1;34m\u001b[0m\n\u001b[1;32m----> 1\u001b[1;33m \u001b[0mnp\u001b[0m\u001b[1;33m.\u001b[0m\u001b[0mlinalg\u001b[0m\u001b[1;33m.\u001b[0m\u001b[0minv\u001b[0m\u001b[1;33m(\u001b[0m\u001b[0mx\u001b[0m\u001b[1;33m)\u001b[0m\u001b[1;33m\u001b[0m\u001b[1;33m\u001b[0m\u001b[0m\n\u001b[0m",
      "\u001b[1;32m~\\AppData\\Local\\Packages\\PythonSoftwareFoundation.Python.3.9_qbz5n2kfra8p0\\LocalCache\\local-packages\\Python39\\site-packages\\numpy\\core\\overrides.py\u001b[0m in \u001b[0;36minv\u001b[1;34m(*args, **kwargs)\u001b[0m\n",
      "\u001b[1;32m~\\AppData\\Local\\Packages\\PythonSoftwareFoundation.Python.3.9_qbz5n2kfra8p0\\LocalCache\\local-packages\\Python39\\site-packages\\numpy\\linalg\\linalg.py\u001b[0m in \u001b[0;36minv\u001b[1;34m(a)\u001b[0m\n\u001b[0;32m    543\u001b[0m     \u001b[0msignature\u001b[0m \u001b[1;33m=\u001b[0m \u001b[1;34m'D->D'\u001b[0m \u001b[1;32mif\u001b[0m \u001b[0misComplexType\u001b[0m\u001b[1;33m(\u001b[0m\u001b[0mt\u001b[0m\u001b[1;33m)\u001b[0m \u001b[1;32melse\u001b[0m \u001b[1;34m'd->d'\u001b[0m\u001b[1;33m\u001b[0m\u001b[1;33m\u001b[0m\u001b[0m\n\u001b[0;32m    544\u001b[0m     \u001b[0mextobj\u001b[0m \u001b[1;33m=\u001b[0m \u001b[0mget_linalg_error_extobj\u001b[0m\u001b[1;33m(\u001b[0m\u001b[0m_raise_linalgerror_singular\u001b[0m\u001b[1;33m)\u001b[0m\u001b[1;33m\u001b[0m\u001b[1;33m\u001b[0m\u001b[0m\n\u001b[1;32m--> 545\u001b[1;33m     \u001b[0mainv\u001b[0m \u001b[1;33m=\u001b[0m \u001b[0m_umath_linalg\u001b[0m\u001b[1;33m.\u001b[0m\u001b[0minv\u001b[0m\u001b[1;33m(\u001b[0m\u001b[0ma\u001b[0m\u001b[1;33m,\u001b[0m \u001b[0msignature\u001b[0m\u001b[1;33m=\u001b[0m\u001b[0msignature\u001b[0m\u001b[1;33m,\u001b[0m \u001b[0mextobj\u001b[0m\u001b[1;33m=\u001b[0m\u001b[0mextobj\u001b[0m\u001b[1;33m)\u001b[0m\u001b[1;33m\u001b[0m\u001b[1;33m\u001b[0m\u001b[0m\n\u001b[0m\u001b[0;32m    546\u001b[0m     \u001b[1;32mreturn\u001b[0m \u001b[0mwrap\u001b[0m\u001b[1;33m(\u001b[0m\u001b[0mainv\u001b[0m\u001b[1;33m.\u001b[0m\u001b[0mastype\u001b[0m\u001b[1;33m(\u001b[0m\u001b[0mresult_t\u001b[0m\u001b[1;33m,\u001b[0m \u001b[0mcopy\u001b[0m\u001b[1;33m=\u001b[0m\u001b[1;32mFalse\u001b[0m\u001b[1;33m)\u001b[0m\u001b[1;33m)\u001b[0m\u001b[1;33m\u001b[0m\u001b[1;33m\u001b[0m\u001b[0m\n\u001b[0;32m    547\u001b[0m \u001b[1;33m\u001b[0m\u001b[0m\n",
      "\u001b[1;32m~\\AppData\\Local\\Packages\\PythonSoftwareFoundation.Python.3.9_qbz5n2kfra8p0\\LocalCache\\local-packages\\Python39\\site-packages\\numpy\\linalg\\linalg.py\u001b[0m in \u001b[0;36m_raise_linalgerror_singular\u001b[1;34m(err, flag)\u001b[0m\n\u001b[0;32m     86\u001b[0m \u001b[1;33m\u001b[0m\u001b[0m\n\u001b[0;32m     87\u001b[0m \u001b[1;32mdef\u001b[0m \u001b[0m_raise_linalgerror_singular\u001b[0m\u001b[1;33m(\u001b[0m\u001b[0merr\u001b[0m\u001b[1;33m,\u001b[0m \u001b[0mflag\u001b[0m\u001b[1;33m)\u001b[0m\u001b[1;33m:\u001b[0m\u001b[1;33m\u001b[0m\u001b[1;33m\u001b[0m\u001b[0m\n\u001b[1;32m---> 88\u001b[1;33m     \u001b[1;32mraise\u001b[0m \u001b[0mLinAlgError\u001b[0m\u001b[1;33m(\u001b[0m\u001b[1;34m\"Singular matrix\"\u001b[0m\u001b[1;33m)\u001b[0m\u001b[1;33m\u001b[0m\u001b[1;33m\u001b[0m\u001b[0m\n\u001b[0m\u001b[0;32m     89\u001b[0m \u001b[1;33m\u001b[0m\u001b[0m\n\u001b[0;32m     90\u001b[0m \u001b[1;32mdef\u001b[0m \u001b[0m_raise_linalgerror_nonposdef\u001b[0m\u001b[1;33m(\u001b[0m\u001b[0merr\u001b[0m\u001b[1;33m,\u001b[0m \u001b[0mflag\u001b[0m\u001b[1;33m)\u001b[0m\u001b[1;33m:\u001b[0m\u001b[1;33m\u001b[0m\u001b[1;33m\u001b[0m\u001b[0m\n",
      "\u001b[1;31mLinAlgError\u001b[0m: Singular matrix"
     ]
    }
   ],
   "source": []
  },
  {
   "cell_type": "code",
   "execution_count": null,
   "metadata": {},
   "outputs": [],
   "source": [
    "def cof(x,p,i):\n",
    "    n=np.copy(x)\n",
    "    n[:,i]=p\n",
    "    return deter(n)\n",
    "l=[]\n",
    "p=np.array([[1,2,3]])\n",
    "for i in range(3):\n",
    "    l.append(cof(x,p,i))\n",
    "\n",
    "print(l)"
   ]
  },
  {
   "cell_type": "code",
   "execution_count": 14,
   "metadata": {},
   "outputs": [
    {
     "data": {
      "text/plain": [
       "array([[1, 2, 3]])"
      ]
     },
     "execution_count": 14,
     "metadata": {},
     "output_type": "execute_result"
    }
   ],
   "source": [
    "p=np.array([[1,2,3]])\n",
    "p"
   ]
  },
  {
   "cell_type": "code",
   "execution_count": 29,
   "metadata": {},
   "outputs": [
    {
     "name": "stdout",
     "output_type": "stream",
     "text": [
      "[[ 3.  6.  5.]\n",
      " [ 7.  3.  3.]\n",
      " [10.  9.  8.]\n",
      " [ 3.  9.  7.]\n",
      " [10.  6.  5.]]\n",
      "[3.50713558 2.50998008 1.94935887]\n",
      "[[-1.02647871 -0.23904572 -0.30779351]\n",
      " [ 0.11405319 -1.43427433 -1.33377186]\n",
      " [ 0.96945211  0.95618289  1.23117402]\n",
      " [-1.02647871  0.95618289  0.71818485]\n",
      " [ 0.96945211 -0.23904572 -0.30779351]]\n",
      "[[ 0.8        -0.04089589  0.06435886]\n",
      " [-0.04089589  0.8         0.78481835]\n",
      " [ 0.06435886  0.78481835  0.8       ]]\n",
      "[0.00818443 0.80664506 1.5851705 ]\n",
      "[[-0.09360247 -0.99538347  0.0212208 ]\n",
      " [-0.70330551  0.08119286  0.70623585]\n",
      " [ 0.70469847 -0.05118071  0.70765853]]\n",
      "[1.5851705  0.80664506 0.00818443]\n",
      "[[ 0.0212208  -0.99538347 -0.09360247]\n",
      " [ 0.70623585  0.08119286 -0.70330551]\n",
      " [ 0.70765853 -0.05118071  0.70469847]]\n"
     ]
    }
   ],
   "source": [
    "from numpy.linalg import eig\n",
    "import numpy as np\n",
    "import pandas as pd\n",
    "\n",
    "n=int(input(\"enter n:\"))\n",
    "l=[]\n",
    "for i in range(n):\n",
    "  l.append([float(x) for x in input().split()])\n",
    "l=np.transpose(l)\n",
    "print(l)\n",
    "xbar=np.mean(l,axis=0)\n",
    "sum=0\n",
    "for i in range(len(l)):\n",
    "  sum=sum+(l[i]-xbar)**2\n",
    "sigma=(sum/(len(l)-1))**0.5\n",
    "print(sigma)\n",
    "meanx=(l-xbar)/sigma\n",
    "print(meanx)\n",
    "c=np.dot(np.transpose(meanx),meanx)/len(l)\n",
    "print(c)\n",
    "ev,ew=eig(c)\n",
    "print(ev)\n",
    "print(ew)\n",
    "lid=ev.argsort()[::-1]\n",
    "ev=ev[lid]\n",
    "ew=ew[:,lid]\n",
    "print(ev)\n",
    "print(ew)\n"
   ]
  },
  {
   "cell_type": "code",
   "execution_count": 22,
   "metadata": {},
   "outputs": [
    {
     "name": "stdout",
     "output_type": "stream",
     "text": [
      "['z1', 'z2']\n",
      "  Principal Components  variance explained  \\\n",
      "0                   z1            1.585171   \n",
      "1                   z2            0.806645   \n",
      "\n",
      "   Cumulative proportion of total variance  \n",
      "0                                 66.27478  \n",
      "1                                100.00000  \n",
      "[1.5851705  0.80664506]\n",
      "[[ 0.0212208  -0.99538347]\n",
      " [ 0.70623585  0.08119286]]\n"
     ]
    }
   ],
   "source": [
    "l1=[]\n",
    "l2=[]\n",
    "s=0\n",
    "for i in range(len(ev)):\n",
    "  s=s+ev[i]\n",
    "  l1.append('z'+str(i+1))\n",
    "  l2.append(s*100/np.sum(ev))\n",
    "\n",
    "print(l1)\n",
    "df=pd.DataFrame()\n",
    "df['Principal Components']=l1\n",
    "df['variance explained']=ev                                                                                                                                                                               \n",
    "df['Cumulative proportion of total variance']=l2\n",
    "print(df)\n",
    "th=int(input())\n",
    "c=0\n",
    "for i in range(len(ev)):\n",
    "  if l2[i]<th:\n",
    "    c=c+1\n",
    "c=c+1\n",
    "\n",
    "ev=ev[0:c]                                                                                                                                                                                                                              \n",
    "ew=ew[:,0:c]\n",
    "# ew=ew[0:c]\n",
    "l3=[]\n",
    "print(ev)\n",
    "print(ew)        \n"
   ]
  },
  {
   "cell_type": "code",
   "execution_count": 17,
   "metadata": {},
   "outputs": [
    {
     "name": "stdout",
     "output_type": "stream",
     "text": [
      "          f1         f2        h2\n",
      "0   0.026718  -0.893988 -1.734540\n",
      "1   0.889176   0.072922  1.924196\n",
      "2   0.890967  -0.045967  1.690000\n",
      "3   1.585171   0.806645  2.391816\n",
      "4  66.274780  33.725220  2.391816\n"
     ]
    }
   ],
   "source": [
    "l3=[]\n",
    "l4=[]\n",
    "for i in range(len(ew)):\n",
    "  l3.append((ev[0]**0.5)*ew[i][0])\n",
    "for i in range(len(ew)):\n",
    "  l4.append((ev[1]**0.5)*ew[i][1])\n",
    "\n",
    "\n",
    "h2=[]\n",
    "for i in range(len(ew)):\n",
    "  h2.append(l3[i]*2+l4[i]*2)\n",
    "h2.append(ev[0]+ev[1])\n",
    "h2.append(ev[0]+ev[1])\n",
    "\n",
    "l3.append(ev[0])\n",
    "l4.append(ev[1])\n",
    "l3.append((ev[0]/(ev[0]+ev[1]))*100 )\n",
    "l4.append((ev[1]/(ev[0]+ev[1]))*100)\n",
    "\n",
    "df=pd.DataFrame()\n",
    "\n",
    "df['f1']=l3\n",
    "df['f2']=l4\n",
    "df['h2']=h2\n",
    "print(df)"
   ]
  },
  {
   "cell_type": "code",
   "execution_count": 37,
   "metadata": {},
   "outputs": [
    {
     "data": {
      "text/plain": [
       "array([-40.56, -37.56, -26.36])"
      ]
     },
     "execution_count": 37,
     "metadata": {},
     "output_type": "execute_result"
    }
   ],
   "source": [
    "(np.transpose(meanx)@meanx)/len(l)\n",
    "l[0]-xbar**2\n",
    "# xbar"
   ]
  },
  {
   "cell_type": "code",
   "execution_count": 51,
   "metadata": {},
   "outputs": [
    {
     "data": {
      "text/plain": [
       "[[1, 1, 2], [1, 1, 2], [1, 1, 2], [1, 1, 2], [1, 1, 2], [1, 1, 2]]"
      ]
     },
     "execution_count": 51,
     "metadata": {},
     "output_type": "execute_result"
    }
   ],
   "source": [
    "y=[1]*6\n",
    "\n",
    "\n",
    "n=[2]*6\n",
    "\n",
    "y=np.array([y,m,n])\n",
    "y.shape\n",
    "[[y[i][j] for i in range(len(y))] for j in range(len(y[0]))]"
   ]
  }
 ],
 "metadata": {
  "kernelspec": {
   "display_name": "Python 3.9.13 64-bit (microsoft store)",
   "language": "python",
   "name": "python3"
  },
  "language_info": {
   "codemirror_mode": {
    "name": "ipython",
    "version": 3
   },
   "file_extension": ".py",
   "mimetype": "text/x-python",
   "name": "python",
   "nbconvert_exporter": "python",
   "pygments_lexer": "ipython3",
   "version": "3.9.13"
  },
  "orig_nbformat": 4,
  "vscode": {
   "interpreter": {
    "hash": "8e284ee3255a07ad8bf76694974743c4c81cb57e7c969474d752d949b11d721e"
   }
  }
 },
 "nbformat": 4,
 "nbformat_minor": 2
}
