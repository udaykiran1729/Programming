{
 "cells": [
  {
   "cell_type": "code",
   "execution_count": 1,
   "metadata": {},
   "outputs": [
    {
     "name": "stdout",
     "output_type": "stream",
     "text": [
      "{'Outlook': {'Sunny': {'Humidity': {'High': 'No', 'Normal': 'Yes'}}, 'Overcast': 'Yes', 'Rainy': {'Wind': {'Weak': 'Yes', 'Strong': 'No'}}}}\n"
     ]
    }
   ],
   "source": [
    "import pandas as pd\n",
    "import math\n",
    "\n",
    "def entropy(data):\n",
    "    le=len(data)\n",
    "    cou=data['label'].value_counts()\n",
    "    ent=0\n",
    "    for val in cou:\n",
    "        ent-=(val/le)*math.log2(val/le)\n",
    "    return ent\n",
    "        \n",
    "\n",
    "def info_gain(data,cols):\n",
    "    attr=data[cols].unique()\n",
    "    tot=len(data)\n",
    "    ig=entropy(data)\n",
    "    for i in attr:\n",
    "        subset=data[data[cols]==i]\n",
    "        ent=entropy(subset)\n",
    "        le=len(subset)\n",
    "        ig-=(le/tot)*ent\n",
    "    return ig\n",
    "\n",
    "\n",
    "def get_best(data,attr):\n",
    "    information_g={}\n",
    "    for i in attr:\n",
    "        information_g[i]=info_gain(data,i)\n",
    "    return max(information_g,key=information_g.get) # type:ignore\n",
    "\n",
    "def create_tree(data,att,target):\n",
    "    if len(data['label'].unique())==1:\n",
    "        return data['label'].iloc[0]\n",
    "    if (len(att)==0):\n",
    "        return data['label'].value_counts().idxmax()\n",
    "    best_aatr=get_best(data,att)\n",
    "    # print(best_aatr)\n",
    "    tree={best_aatr:{}}\n",
    "    remain=[i for i in att if i!=best_aatr]\n",
    "\n",
    "    for i in data[best_aatr].unique():\n",
    "        subset=data[data[best_aatr]==i]\n",
    "        subset=subset.drop(best_aatr,axis=1)\n",
    "        subtree=create_tree(subset,remain,target)\n",
    "        tree[best_aatr][i]=subtree\n",
    "    return tree\n",
    "\n",
    "data = {\n",
    "    'Outlook': ['Sunny', 'Sunny', 'Overcast', 'Rainy', 'Rainy', 'Rainy', 'Overcast', 'Sunny', 'Sunny', 'Rainy', 'Sunny', 'Overcast', 'Overcast', 'Rainy'],\n",
    "    'Temperature': ['Hot', 'Hot', 'Hot', 'Mild', 'Cool', 'Cool', 'Cool', 'Mild', 'Cool', 'Mild', 'Mild', 'Mild', 'Hot', 'Mild'],\n",
    "    'Humidity': ['High', 'High', 'High', 'High', 'Normal', 'Normal', 'Normal', 'High', 'Normal', 'Normal', 'Normal', 'High', 'Normal', 'High'],\n",
    "    'Wind': ['Weak', 'Strong', 'Weak', 'Weak', 'Weak', 'Strong', 'Strong', 'Weak', 'Weak', 'Weak', 'Strong', 'Strong', 'Weak', 'Strong'],\n",
    "    'label': ['No', 'No', 'Yes', 'Yes', 'Yes', 'No', 'Yes', 'No', 'Yes', 'Yes', 'Yes', 'Yes', 'Yes', 'No']\n",
    "}\n",
    "\n",
    "df = pd.DataFrame(data)\n",
    "\n",
    "attributes = list(df.columns)\n",
    "attributes.remove('label')\n",
    "\n",
    "# Build the decision tree\n",
    "decision_tree = create_tree(df, attributes, 'label')\n",
    "\n",
    "print(decision_tree)"
   ]
  },
  {
   "cell_type": "code",
   "execution_count": 33,
   "metadata": {},
   "outputs": [
    {
     "name": "stdout",
     "output_type": "stream",
     "text": [
      "[[1.        ]\n",
      " [0.93478261]\n",
      " [0.9673913 ]]\n",
      "[[0.96844211]\n",
      " [0.96154837]\n",
      " [0.96814051]]\n"
     ]
    }
   ],
   "source": [
    "import numpy as np\n",
    "\n",
    "inp_neu=np.array([[2,9],[1,5],[3,6]],dtype=float)\n",
    "\n",
    "out_neu=np.array([[92],[86],[89]],dtype=float)\n",
    "\n",
    "inp_neu=inp_neu/np.amax(inp_neu,axis=0)\n",
    "out_neu=out_neu/np.amax(out_neu,axis=0)\n",
    "\n",
    "epochs=5000\n",
    "inp=2\n",
    "hid=3\n",
    "out=1\n",
    "lr=0.1\n",
    "hid_wei=np.random.uniform(size=(inp,hid))\n",
    "hid_bia=np.random.uniform(size=(1,hid))\n",
    "out_wei=np.random.uniform(size=(hid,out))\n",
    "out_bia=np.random.uniform(size=(1,out))\n",
    "\n",
    "def sigmoid(x):\n",
    "    return 1/(1+np.exp(-x))\n",
    "def sig_der(x):\n",
    "    return x*(1-x)\n",
    "\n",
    "for i in range(epochs):\n",
    "    # front\n",
    "    hid_inp=np.dot(inp_neu,hid_wei)+hid_bia\n",
    "    hid_out=sigmoid(hid_inp)\n",
    "    out_in=np.dot(hid_out,out_wei)+out_bia\n",
    "    out_out=sigmoid(out_in)\n",
    "\n",
    "    #back\n",
    "    out_err=out_neu-out_out\n",
    "    out_grad=sig_der(out_out)*out_err\n",
    "    hid_err=out_grad.dot(out_wei.T)\n",
    "    hid_grad=sig_der(hid_out)*hid_err\n",
    "\n",
    "    #weight\n",
    "    out_wei+=hid_out.T.dot(out_grad)*lr\n",
    "    out_bia+=np.sum(out_grad,axis=0,keepdims=True)*lr\n",
    "    hid_wei+=inp_neu.T.dot(hid_grad)*lr\n",
    "    hid_bia+=np.sum(hid_grad,axis=0,keepdims=True)*lr\n",
    "\n",
    "print(out_neu)\n",
    "print(out_out)"
   ]
  },
  {
   "cell_type": "code",
   "execution_count": 38,
   "metadata": {},
   "outputs": [
    {
     "name": "stdout",
     "output_type": "stream",
     "text": [
      "0    0\n",
      "2    2\n",
      "1    1\n",
      "2    2\n",
      "0    0\n",
      "1    1\n",
      "0    0\n",
      "0    0\n",
      "1    1\n",
      "2    2\n",
      "2    2\n",
      "1    1\n",
      "0    0\n",
      "2    2\n",
      "1    1\n",
      "1.0\n"
     ]
    }
   ],
   "source": [
    "from sklearn import datasets\n",
    "from sklearn.neighbors import KNeighborsClassifier\n",
    "from sklearn.model_selection import train_test_split\n",
    "\n",
    "iris=datasets.load_iris()\n",
    "\n",
    "x_train,x_test,y_train,y_test=train_test_split(iris.data,iris.target,test_size=0.1) # type: ignore\n",
    "\n",
    "model=KNeighborsClassifier(1)\n",
    "\n",
    "model.fit(x_train,y_train)\n",
    "\n",
    "y_pred=model.predict(x_test)\n",
    "\n",
    "for i in range(len(x_test)):\n",
    "    print(y_test[i],'  ',y_pred[i])\n",
    "print(model.score(x_test,y_test))"
   ]
  },
  {
   "cell_type": "code",
   "execution_count": 10,
   "metadata": {},
   "outputs": [
    {
     "data": {
      "image/png": "[encoded data removed]",
      "text/plain": [
       "<Figure size 432x288 with 1 Axes>"
      ]
     },
     "metadata": {
      "needs_background": "light"
     },
     "output_type": "display_data"
    }
   ],
   "source": [
    "import numpy as np\n",
    "import pandas as pd\n",
    "import matplotlib.pyplot as plt\n",
    "\n",
    "def kernel(point,xmat,k):\n",
    "    m,n=np.shape(xmat)\n",
    "    res=np.mat(np.eye(m))\n",
    "\n",
    "    for i in range(m):\n",
    "        diff=point-X[i]\n",
    "        res[i,i]=np.exp((diff*diff.T)/(-2*k**2))\n",
    "    return res\n",
    "\n",
    "def localweight(point,xmat,ymat,k):\n",
    "    wt=kernel(point,xmat,k)\n",
    "    return ((X.T*(wt*X)).I)*(X.T*wt*ymat.T) # type: ignore\n",
    "\n",
    "def localweightregression(xmat,ymat,k):\n",
    "    m,n=np.shape(xmat)\n",
    "    ypred=np.zeros(m)\n",
    "    for i in range(m):\n",
    "        ypred[i]=xmat[i]*localweight(xmat[i],xmat,ymat,k)\n",
    "    return ypred\n",
    "\n",
    "df=pd.read_csv('C:\\\\Users\\\\Admin\\\\Downloads\\\\10-dataset.csv')\n",
    "\n",
    "A=df.total_bill\n",
    "B=df.tip\n",
    "\n",
    "mcola=np.mat(A)\n",
    "mcolb=np.mat(B)\n",
    "\n",
    "m=np.shape(mcolb)[1]\n",
    "ones=np.ones((1,m),dtype=int)\n",
    "\n",
    "X=np.hstack((ones.T,mcola.T))\n",
    "\n",
    "ypred=localweightregression(X,mcolb,0.8)\n",
    "\n",
    "\n",
    "sortx=X.copy()\n",
    "sortx.sort(axis=0)\n",
    "plt.scatter(A,B,color='blue')\n",
    "plt.plot(sortx[:,1],ypred[X[:,1].argsort(0)],color='red')\n",
    "plt.show()"
   ]
  }
 ],
 "metadata": {
  "kernelspec": {
   "display_name": "Python 3",
   "language": "python",
   "name": "python3"
  },
  "language_info": {
   "codemirror_mode": {
    "name": "ipython",
    "version": 3
   },
   "file_extension": ".py",
   "mimetype": "text/x-python",
   "name": "python",
   "nbconvert_exporter": "python",
   "pygments_lexer": "ipython3",
   "version": "3.9.13"
  },
  "orig_nbformat": 4
 },
 "nbformat": 4,
 "nbformat_minor": 2
}
